{
 "cells": [
  {
   "cell_type": "markdown",
   "id": "9ef16148",
   "metadata": {},
   "source": [
    "when range bound pos = 0.3 lev = 10\n",
    "when not pos = 0.4 lev = 10\n",
    "do 0.35 poss"
   ]
  },
  {
   "cell_type": "code",
   "execution_count": 495,
   "id": "dcacedca",
   "metadata": {},
   "outputs": [],
   "source": [
    "import numpy as np\n",
    "import pandas as pd\n",
    "import matplotlib.pyplot as plt"
   ]
  },
  {
   "cell_type": "code",
   "execution_count": 496,
   "id": "08a09436",
   "metadata": {},
   "outputs": [
    {
     "data": {
      "text/html": [
       "<div>\n",
       "<style scoped>\n",
       "    .dataframe tbody tr th:only-of-type {\n",
       "        vertical-align: middle;\n",
       "    }\n",
       "\n",
       "    .dataframe tbody tr th {\n",
       "        vertical-align: top;\n",
       "    }\n",
       "\n",
       "    .dataframe thead th {\n",
       "        text-align: right;\n",
       "    }\n",
       "</style>\n",
       "<table border=\"1\" class=\"dataframe\">\n",
       "  <thead>\n",
       "    <tr style=\"text-align: right;\">\n",
       "      <th></th>\n",
       "      <th>Date</th>\n",
       "      <th>Open</th>\n",
       "      <th>High</th>\n",
       "      <th>Low</th>\n",
       "      <th>Close</th>\n",
       "      <th>Adj Close</th>\n",
       "      <th>Volume</th>\n",
       "    </tr>\n",
       "  </thead>\n",
       "  <tbody>\n",
       "    <tr>\n",
       "      <th>0</th>\n",
       "      <td>2014-09-17</td>\n",
       "      <td>465.864014</td>\n",
       "      <td>468.174011</td>\n",
       "      <td>452.421997</td>\n",
       "      <td>457.334015</td>\n",
       "      <td>457.334015</td>\n",
       "      <td>21056800</td>\n",
       "    </tr>\n",
       "    <tr>\n",
       "      <th>1</th>\n",
       "      <td>2014-09-18</td>\n",
       "      <td>456.859985</td>\n",
       "      <td>456.859985</td>\n",
       "      <td>413.104004</td>\n",
       "      <td>424.440002</td>\n",
       "      <td>424.440002</td>\n",
       "      <td>34483200</td>\n",
       "    </tr>\n",
       "    <tr>\n",
       "      <th>2</th>\n",
       "      <td>2014-09-19</td>\n",
       "      <td>424.102997</td>\n",
       "      <td>427.834991</td>\n",
       "      <td>384.532013</td>\n",
       "      <td>394.795990</td>\n",
       "      <td>394.795990</td>\n",
       "      <td>37919700</td>\n",
       "    </tr>\n",
       "    <tr>\n",
       "      <th>3</th>\n",
       "      <td>2014-09-20</td>\n",
       "      <td>394.673004</td>\n",
       "      <td>423.295990</td>\n",
       "      <td>389.882996</td>\n",
       "      <td>408.903992</td>\n",
       "      <td>408.903992</td>\n",
       "      <td>36863600</td>\n",
       "    </tr>\n",
       "    <tr>\n",
       "      <th>4</th>\n",
       "      <td>2014-09-21</td>\n",
       "      <td>408.084991</td>\n",
       "      <td>412.425995</td>\n",
       "      <td>393.181000</td>\n",
       "      <td>398.821014</td>\n",
       "      <td>398.821014</td>\n",
       "      <td>26580100</td>\n",
       "    </tr>\n",
       "    <tr>\n",
       "      <th>...</th>\n",
       "      <td>...</td>\n",
       "      <td>...</td>\n",
       "      <td>...</td>\n",
       "      <td>...</td>\n",
       "      <td>...</td>\n",
       "      <td>...</td>\n",
       "      <td>...</td>\n",
       "    </tr>\n",
       "    <tr>\n",
       "      <th>3191</th>\n",
       "      <td>2023-06-13</td>\n",
       "      <td>25902.941406</td>\n",
       "      <td>26376.351562</td>\n",
       "      <td>25728.365234</td>\n",
       "      <td>25918.728516</td>\n",
       "      <td>25918.728516</td>\n",
       "      <td>14143474486</td>\n",
       "    </tr>\n",
       "    <tr>\n",
       "      <th>3192</th>\n",
       "      <td>2023-06-14</td>\n",
       "      <td>25920.257812</td>\n",
       "      <td>26041.800781</td>\n",
       "      <td>24902.152344</td>\n",
       "      <td>25124.675781</td>\n",
       "      <td>25124.675781</td>\n",
       "      <td>14265717766</td>\n",
       "    </tr>\n",
       "    <tr>\n",
       "      <th>3193</th>\n",
       "      <td>2023-06-15</td>\n",
       "      <td>25121.673828</td>\n",
       "      <td>25735.308594</td>\n",
       "      <td>24797.167969</td>\n",
       "      <td>25576.394531</td>\n",
       "      <td>25576.394531</td>\n",
       "      <td>15837384409</td>\n",
       "    </tr>\n",
       "    <tr>\n",
       "      <th>3194</th>\n",
       "      <td>2023-06-16</td>\n",
       "      <td>25575.283203</td>\n",
       "      <td>26463.173828</td>\n",
       "      <td>25245.357422</td>\n",
       "      <td>26327.462891</td>\n",
       "      <td>26327.462891</td>\n",
       "      <td>16324646965</td>\n",
       "    </tr>\n",
       "    <tr>\n",
       "      <th>3195</th>\n",
       "      <td>2023-06-17</td>\n",
       "      <td>26330.414062</td>\n",
       "      <td>26753.896484</td>\n",
       "      <td>26174.492188</td>\n",
       "      <td>26440.609375</td>\n",
       "      <td>26440.609375</td>\n",
       "      <td>15826374656</td>\n",
       "    </tr>\n",
       "  </tbody>\n",
       "</table>\n",
       "<p>3196 rows × 7 columns</p>\n",
       "</div>"
      ],
      "text/plain": [
       "            Date          Open          High           Low         Close  \\\n",
       "0     2014-09-17    465.864014    468.174011    452.421997    457.334015   \n",
       "1     2014-09-18    456.859985    456.859985    413.104004    424.440002   \n",
       "2     2014-09-19    424.102997    427.834991    384.532013    394.795990   \n",
       "3     2014-09-20    394.673004    423.295990    389.882996    408.903992   \n",
       "4     2014-09-21    408.084991    412.425995    393.181000    398.821014   \n",
       "...          ...           ...           ...           ...           ...   \n",
       "3191  2023-06-13  25902.941406  26376.351562  25728.365234  25918.728516   \n",
       "3192  2023-06-14  25920.257812  26041.800781  24902.152344  25124.675781   \n",
       "3193  2023-06-15  25121.673828  25735.308594  24797.167969  25576.394531   \n",
       "3194  2023-06-16  25575.283203  26463.173828  25245.357422  26327.462891   \n",
       "3195  2023-06-17  26330.414062  26753.896484  26174.492188  26440.609375   \n",
       "\n",
       "         Adj Close       Volume  \n",
       "0       457.334015     21056800  \n",
       "1       424.440002     34483200  \n",
       "2       394.795990     37919700  \n",
       "3       408.903992     36863600  \n",
       "4       398.821014     26580100  \n",
       "...            ...          ...  \n",
       "3191  25918.728516  14143474486  \n",
       "3192  25124.675781  14265717766  \n",
       "3193  25576.394531  15837384409  \n",
       "3194  26327.462891  16324646965  \n",
       "3195  26440.609375  15826374656  \n",
       "\n",
       "[3196 rows x 7 columns]"
      ]
     },
     "execution_count": 496,
     "metadata": {},
     "output_type": "execute_result"
    }
   ],
   "source": [
    "df = pd.read_csv('BTC_daily.csv')\n",
    "df"
   ]
  },
  {
   "cell_type": "code",
   "execution_count": 497,
   "id": "3e8f50fa",
   "metadata": {},
   "outputs": [],
   "source": [
    "data = df['Close'].values\n",
    "lows = df['Low'].values\n",
    "highs = df['High']"
   ]
  },
  {
   "cell_type": "code",
   "execution_count": 498,
   "id": "6d57aaa6",
   "metadata": {},
   "outputs": [],
   "source": [
    "def SMA(n , dat):\n",
    "    sma_list = [0] * (n - 1)\n",
    "    for i in range(n, dat.shape[0]+1):\n",
    "        sma_list.append(np.mean(dat[i-n:i]))\n",
    "    return(sma_list)"
   ]
  },
  {
   "cell_type": "code",
   "execution_count": 499,
   "id": "1fd1d70f",
   "metadata": {},
   "outputs": [],
   "source": [
    "def CUTS(sma1 , sma2): # sma1 shorter than sma2\n",
    "    buy = []\n",
    "    sell = []\n",
    "    old = 1\n",
    "    for i in range(len(sma1)):\n",
    "        if (sma1[i]>=sma2[i]):\n",
    "            new = 1\n",
    "        else:\n",
    "            new = -1\n",
    "        if (old != new):\n",
    "            if (new==-1) :\n",
    "                sell.append(i)\n",
    "            else:\n",
    "                buy.append(i)\n",
    "        old = new\n",
    "    return buy , sell"
   ]
  },
  {
   "cell_type": "code",
   "execution_count": 1,
   "id": "fc7d91d1",
   "metadata": {},
   "outputs": [],
   "source": [
    "def PROFITS (buys , sells , lows , highs, data , l , pos):\n",
    "    fees = 0.9999\n",
    "    profit = []\n",
    "    if (len(buys)>0):\n",
    "        if (buys[0] > sells[0]):\n",
    "            for i in range(len(buys)):\n",
    "                maxi = np.max(highs[sells[i]:buys[i]+1])\n",
    "                allowed = data[sells[i]] * (1 + 1/l)*(fees**(4*(buys[i] - sells[i] + np.argmax(highs[sells[i]:buys[i]+1]))))\n",
    "                if (allowed > maxi):\n",
    "                    p =  (((data[sells[i]] - data[buys[i]])/data[buys[i]])*l*pos)*(fees**(4*(buys[i] - sells[i])))\n",
    "                    profit.append(p)\n",
    "                else:\n",
    "                    p = -1 * pos*(fees**(4*(buys[i] - sells[i] + np.argmax(highs[sells[i]:buys[i]+1]))))\n",
    "                    profit.append(p)\n",
    "                if (i!=(len(buys)-1)):\n",
    "                    mini = np.min(lows[buys[i]:sells[i+1]])\n",
    "                    allowed = data[buys[i]] * (1 - 1/l)/(fees**(4*(buys[i] - sells[i+1] + np.argmin(lows[buys[i]:sells[i+1]+1]))))\n",
    "                    if (allowed < mini):\n",
    "                        p = (((data[sells[i+1]] - data[buys[i]+1])/data[buys[i]])*l*pos)*(fees**(4*(sells[i+1] - buys[i])))\n",
    "                        profit.append(p)\n",
    "                    else:\n",
    "                        p = -1 * pos*(fees**(4*(buys[i] - sells[i+1] + np.argmin(lows[buys[i]:sells[i+1]+1]))))\n",
    "                        profit.append(p)\n",
    "        else :\n",
    "            for i in range(len(buys)):\n",
    "                print(\"shit, we fuckedup in PROFITS function\")\n",
    "                p = (((data[sells[i]] - data[buys[i]])/data[buys[i]])*l*p)/(fees**(4*sells[i] - buys[i]))\n",
    "                profit.append(p)\n",
    "    return profit"
   ]
  },
  {
   "cell_type": "code",
   "execution_count": 509,
   "id": "8b2726e9",
   "metadata": {},
   "outputs": [],
   "source": [
    "def RATE(profs):\n",
    "    fees = 0.999\n",
    "    if (len(profs)>0):\n",
    "        numtrades = len(profs)\n",
    "        maxdrawdown = min(profs) \n",
    "        maxwin = max(profs)\n",
    "        allprofit = 1\n",
    "        multiplyer = [1] # your money in time\n",
    "        for i in profs: \n",
    "            multiplyer.append(allprofit * (1 + i) * fees)\n",
    "            allprofit = allprofit * (1 + i)*fees\n",
    "        return numtrades , maxdrawdown , maxwin , allprofit , multiplyer \n",
    "    else:\n",
    "        return 0 , 0  , 0 , 1 , [1]"
   ]
  },
  {
   "cell_type": "code",
   "execution_count": 518,
   "id": "c9c8513b",
   "metadata": {},
   "outputs": [],
   "source": [
    "N = 1095\n",
    "smas = np.zeros((200 , N) , dtype = float)\n",
    "for i in range (200):\n",
    "    smas [i , :] = SMA(i+1 , data[-N:])"
   ]
  },
  {
   "cell_type": "code",
   "execution_count": 519,
   "id": "500270ff",
   "metadata": {},
   "outputs": [
    {
     "name": "stdout",
     "output_type": "stream",
     "text": [
      "0\n",
      "1\n",
      "2\n",
      "3\n",
      "4\n",
      "5\n",
      "6\n",
      "7\n",
      "8\n",
      "9\n",
      "10\n",
      "11\n",
      "12\n",
      "13\n",
      "14\n",
      "15\n",
      "16\n",
      "17\n",
      "18\n",
      "19\n",
      "20\n",
      "21\n",
      "22\n",
      "23\n",
      "24\n",
      "25\n",
      "26\n",
      "27\n",
      "28\n",
      "29\n",
      "30\n",
      "31\n",
      "32\n",
      "33\n",
      "34\n",
      "35\n",
      "36\n",
      "37\n",
      "38\n",
      "39\n",
      "40\n",
      "41\n",
      "42\n",
      "43\n",
      "44\n",
      "45\n",
      "46\n",
      "47\n",
      "48\n",
      "49\n",
      "50\n",
      "51\n",
      "52\n",
      "53\n",
      "54\n",
      "55\n",
      "56\n",
      "57\n",
      "58\n",
      "59\n",
      "60\n",
      "61\n",
      "62\n",
      "63\n",
      "64\n",
      "65\n",
      "66\n",
      "67\n",
      "68\n",
      "69\n",
      "70\n",
      "71\n",
      "72\n",
      "73\n",
      "74\n",
      "75\n",
      "76\n",
      "77\n",
      "78\n",
      "79\n",
      "80\n",
      "81\n",
      "82\n",
      "83\n",
      "84\n",
      "85\n",
      "86\n",
      "87\n",
      "88\n",
      "89\n",
      "90\n",
      "91\n",
      "92\n",
      "93\n",
      "94\n",
      "95\n",
      "96\n",
      "97\n",
      "98\n",
      "99\n"
     ]
    }
   ],
   "source": [
    "levs = np.linspace (1 , 100 , num = 100)\n",
    "poss = np.linspace (0.1 , 1 , num = 90)\n",
    "allprofits = np.zeros ((len(levs) , len(poss)))\n",
    "for i in range(len(levs)) :\n",
    "    for j in range(len(poss)) :\n",
    "        l = levs[i]\n",
    "        p = poss[j]\n",
    "        buy , sell = CUTS(smas[30 , :] , smas[35 , :])\n",
    "        profits = PROFITS(buy , sell,lows[-N:] , highs[-N:] , data[-N:] , l , p)\n",
    "        numtrades , maxdrawdown , maxwin , allprofit , multiplyer = RATE(profits)\n",
    "        allprofits[i][j] = allprofit"
   ]
  },
  {
   "cell_type": "code",
   "execution_count": 520,
   "id": "114de51d",
   "metadata": {},
   "outputs": [
    {
     "name": "stdout",
     "output_type": "stream",
     "text": [
      "413.0125712490281\n"
     ]
    },
    {
     "ename": "ValueError",
     "evalue": "either both or neither of x and y should be given",
     "output_type": "error",
     "traceback": [
      "\u001b[0;31m---------------------------------------------------------------------------\u001b[0m",
      "\u001b[0;31mValueError\u001b[0m                                Traceback (most recent call last)",
      "Cell \u001b[0;32mIn[520], line 2\u001b[0m\n\u001b[1;32m      1\u001b[0m \u001b[38;5;28mprint\u001b[39m(np\u001b[38;5;241m.\u001b[39mmax(allprofits))\n\u001b[0;32m----> 2\u001b[0m \u001b[38;5;28mprint\u001b[39m(allprofits[\u001b[43mnp\u001b[49m\u001b[38;5;241;43m.\u001b[39;49m\u001b[43mwhere\u001b[49m\u001b[43m(\u001b[49m\u001b[43mlevs\u001b[49m\u001b[43m \u001b[49m\u001b[43m,\u001b[49m\u001b[43m \u001b[49m\u001b[38;5;241;43m10\u001b[39;49m\u001b[43m)\u001b[49m][np\u001b[38;5;241m.\u001b[39mwhere(poss \u001b[38;5;241m=\u001b[39m \u001b[38;5;241m0.35\u001b[39m)])\n",
      "File \u001b[0;32m<__array_function__ internals>:5\u001b[0m, in \u001b[0;36mwhere\u001b[0;34m(*args, **kwargs)\u001b[0m\n",
      "\u001b[0;31mValueError\u001b[0m: either both or neither of x and y should be given"
     ]
    }
   ],
   "source": [
    "print(np.max(allprofits))\n",
    "print(allprofits[np.where(levs , 10)][np.where(poss = 0.35)])"
   ]
  },
  {
   "cell_type": "code",
   "execution_count": 521,
   "id": "67936e4c",
   "metadata": {},
   "outputs": [
    {
     "name": "stdout",
     "output_type": "stream",
     "text": [
      "Best combination: 10.0 , 0.42359550561797754\n"
     ]
    }
   ],
   "source": [
    "maxrow, maxcol = np.unravel_index(np.argmax(allprofits), allprofits.shape)\n",
    "print(\"Best combination: \" + str(levs[maxrow]) + \" , \" + str(poss[maxcol]))"
   ]
  },
  {
   "cell_type": "code",
   "execution_count": 241,
   "id": "1971aa53",
   "metadata": {},
   "outputs": [
    {
     "name": "stdout",
     "output_type": "stream",
     "text": [
      "[50  3 10  3  3  3  3 20 10 20 10  2  2  2  2  2 20  5  5 10]\n",
      "[0.1 0.4 0.4 0.5 0.6 0.7 0.8 0.3 0.2 0.2 0.1 1.  0.9 0.8 0.7 0.6 0.1 0.3\n",
      " 0.4 0.3]\n"
     ]
    }
   ],
   "source": [
    "flattened_arr = allprofits.flatten()\n",
    "\n",
    "# Get the indexes of the 20 largest numbers\n",
    "indexes = np.argpartition(flattened_arr, -20)[-20:]\n",
    "\n",
    "# Convert flat indexes to row and column indexes\n",
    "row_indexes, col_indexes = np.unravel_index(indexes, allprofits.shape)\n",
    "\n",
    "print(np.array(levs)[row_indexes])\n",
    "print(np.array(poss)[col_indexes])"
   ]
  },
  {
   "cell_type": "code",
   "execution_count": 516,
   "id": "f90716c7",
   "metadata": {},
   "outputs": [
    {
     "data": {
      "text/plain": [
       "[<matplotlib.lines.Line2D at 0x155f5c5e0>]"
      ]
     },
     "execution_count": 516,
     "metadata": {},
     "output_type": "execute_result"
    },
    {
     "data": {
      "image/png": "[encoded data removed]",
      "text/plain": [
       "<Figure size 640x480 with 1 Axes>"
      ]
     },
     "metadata": {},
     "output_type": "display_data"
    }
   ],
   "source": [
    "plt.plot(allprofits[5 , :])"
   ]
  },
  {
   "cell_type": "code",
   "execution_count": 240,
   "id": "0c926cfe",
   "metadata": {},
   "outputs": [
    {
     "data": {
      "text/plain": [
       "12231.689443405403"
      ]
     },
     "execution_count": 240,
     "metadata": {},
     "output_type": "execute_result"
    }
   ],
   "source": [
    "np.max(allprofits)"
   ]
  },
  {
   "cell_type": "code",
   "execution_count": 242,
   "id": "f01bf91c",
   "metadata": {},
   "outputs": [
    {
     "data": {
      "text/plain": [
       "464.84177030427685"
      ]
     },
     "execution_count": 242,
     "metadata": {},
     "output_type": "execute_result"
    }
   ],
   "source": [
    "allprofits[4][3]"
   ]
  },
  {
   "cell_type": "code",
   "execution_count": 226,
   "id": "fd8ed907",
   "metadata": {},
   "outputs": [
    {
     "name": "stdout",
     "output_type": "stream",
     "text": [
      "[ 5 10  5 20  5 10 20 20 20 20 20 20 20 10 10 10 10 10  5 20]\n",
      "[0.3 0.4 0.3 0.5 0.3 0.4 0.5 0.5 0.5 0.5 0.5 0.5 0.5 0.4 0.4 0.4 0.4 0.4\n",
      " 0.3 0.5]\n"
     ]
    }
   ],
   "source": [
    "levs0 = np.array(levs)[row_indexes]\n",
    "poss0 = np.array(poss)[row_indexes]\n",
    "print(levs0)\n",
    "print(poss0)"
   ]
  },
  {
   "cell_type": "code",
   "execution_count": 219,
   "id": "b2483d1b",
   "metadata": {},
   "outputs": [
    {
     "name": "stdout",
     "output_type": "stream",
     "text": [
      "[ 2  5  5 10  3  2  3  2  3  5  2  3  2  2 10  3  5  5 10  3]\n",
      "[0.1 0.3 0.3 0.4 0.2 0.1 0.2 0.1 0.2 0.3 0.1 0.2 0.1 0.1 0.4 0.2 0.3 0.3\n",
      " 0.4 0.2]\n"
     ]
    }
   ],
   "source": [
    "levs1 = np.array(levs)[row_indexes]\n",
    "poss1 = np.array(poss)[row_indexes]\n",
    "print(levs1)\n",
    "print(poss1)"
   ]
  },
  {
   "cell_type": "code",
   "execution_count": 210,
   "id": "0cc6a0ec",
   "metadata": {},
   "outputs": [
    {
     "name": "stdout",
     "output_type": "stream",
     "text": [
      "[ 2  3  5 20  2  3  3  3  3  3 20  2  2  2 20 20 10 10 10 10]\n",
      "[0.1 0.2 0.3 0.5 0.1 0.2 0.2 0.2 0.2 0.2 0.5 0.1 0.1 0.1 0.5 0.5 0.4 0.4\n",
      " 0.4 0.4]\n"
     ]
    }
   ],
   "source": [
    "levs2 = np.array(levs)[row_indexes]\n",
    "poss2 = np.array(poss)[row_indexes]\n",
    "print(levs2)\n",
    "print(poss2)"
   ]
  },
  {
   "cell_type": "code",
   "execution_count": 204,
   "id": "5b84479e",
   "metadata": {},
   "outputs": [
    {
     "name": "stdout",
     "output_type": "stream",
     "text": [
      "[10 20  5  5  3  2  2  5  5  3 20  3  3  3 20 10 10 10 10 10]\n",
      "[0.4 0.5 0.3 0.3 0.2 0.1 0.1 0.3 0.3 0.2 0.5 0.2 0.2 0.2 0.5 0.4 0.4 0.4\n",
      " 0.4 0.4]\n"
     ]
    }
   ],
   "source": [
    "levs3=np.array(levs)[row_indexes]\n",
    "poss3 = np.array(poss)[row_indexes]\n",
    "print(levs3)\n",
    "print(poss3)"
   ]
  },
  {
   "cell_type": "code",
   "execution_count": 494,
   "id": "7e888d1b",
   "metadata": {},
   "outputs": [
    {
     "data": {
      "text/plain": [
       "6.018838623423048"
      ]
     },
     "execution_count": 494,
     "metadata": {},
     "output_type": "execute_result"
    }
   ],
   "source": [
    "N = 1095\n",
    "smas = np.zeros((200 , N) , dtype = float)\n",
    "for i in range (200):\n",
    "    smas [i , :] = SMA(i+1 , data[-N:])\n",
    "buy , sell = CUTS(smas[30 , :] , smas[35 , :])\n",
    "profits = PROFITS(buy , sell,lows[-N:] , highs[-N:] , data[-N:] , 3 , 1)\n",
    "numtrades , maxdrawdown , maxwin , allprofit , multiplyer = RATE(profits)\n",
    "allprofit"
   ]
  },
  {
   "cell_type": "code",
   "execution_count": 237,
   "id": "68fbf2d2",
   "metadata": {},
   "outputs": [
    {
     "data": {
      "text/plain": [
       "[<matplotlib.lines.Line2D at 0x13ce56220>]"
      ]
     },
     "execution_count": 237,
     "metadata": {},
     "output_type": "execute_result"
    },
    {
     "data": {
      "image/png": "[encoded data removed]",
      "text/plain": [
       "<Figure size 640x480 with 1 Axes>"
      ]
     },
     "metadata": {},
     "output_type": "display_data"
    }
   ],
   "source": [
    "plt.plot(allprofits[4 , :])"
   ]
  },
  {
   "cell_type": "code",
   "execution_count": 156,
   "id": "4a708dbb",
   "metadata": {},
   "outputs": [
    {
     "data": {
      "text/plain": [
       "[10369.5634765625,\n",
       " 46196.46484375,\n",
       " 52774.265625,\n",
       " 63109.6953125,\n",
       " 60683.8203125,\n",
       " 56473.03125,\n",
       " 57828.05078125,\n",
       " 39974.89453125,\n",
       " 59697.1953125,\n",
       " 57806.56640625,\n",
       " 46453.56640625,\n",
       " 40458.30859375,\n",
       " 19141.484375,\n",
       " 20602.81640625,\n",
       " 16669.439453125,\n",
       " 17364.865234375,\n",
       " 22353.349609375,\n",
       " 28175.81640625,\n",
       " 26804.990234375]"
      ]
     },
     "execution_count": 156,
     "metadata": {},
     "output_type": "execute_result"
    }
   ],
   "source": [
    "shorts"
   ]
  },
  {
   "cell_type": "code",
   "execution_count": 157,
   "id": "3f7fc760",
   "metadata": {},
   "outputs": [
    {
     "data": {
      "text/plain": [
       "[11406.51982421875,\n",
       " 50816.11132812501,\n",
       " 58051.692187500004,\n",
       " 69420.66484375001,\n",
       " 66752.20234375,\n",
       " 62120.334375000006,\n",
       " 63610.855859375006,\n",
       " 43972.383984375,\n",
       " 65666.91484375001,\n",
       " 63587.223046875006,\n",
       " 51098.923046875,\n",
       " 44504.139453125004,\n",
       " 21055.6328125,\n",
       " 22663.098046875002,\n",
       " 18336.3833984375,\n",
       " 19101.351757812503,\n",
       " 24588.684570312504,\n",
       " 30993.398046875,\n",
       " 29485.489257812504]"
      ]
     },
     "execution_count": 157,
     "metadata": {},
     "output_type": "execute_result"
    }
   ],
   "source": [
    "sa"
   ]
  },
  {
   "cell_type": "code",
   "execution_count": 158,
   "id": "f6e48f70",
   "metadata": {},
   "outputs": [
    {
     "data": {
      "text/plain": [
       "[11134.0927734375,\n",
       " 48745.734375,\n",
       " 57262.3828125,\n",
       " 64863.09765625,\n",
       " 62572.17578125,\n",
       " 57062.1484375,\n",
       " 59519.35546875,\n",
       " 42541.6796875,\n",
       " 60004.42578125,\n",
       " 59113.40234375,\n",
       " 47313.4765625,\n",
       " 40713.890625,\n",
       " 19889.146484375,\n",
       " 21053.24609375,\n",
       " 18318.53125,\n",
       " 17846.744140625,\n",
       " 22613.685546875,\n",
       " 28803.3359375,\n",
       " 27646.34765625]"
      ]
     },
     "execution_count": 158,
     "metadata": {},
     "output_type": "execute_result"
    }
   ],
   "source": [
    "maxs"
   ]
  },
  {
   "cell_type": "code",
   "execution_count": 134,
   "id": "5e260413",
   "metadata": {},
   "outputs": [
    {
     "data": {
      "text/plain": [
       "(2000.0, 3000.0)"
      ]
     },
     "execution_count": 134,
     "metadata": {},
     "output_type": "execute_result"
    },
    {
     "data": {
      "image/png": "[encoded data removed]",
      "text/plain": [
       "<Figure size 640x480 with 1 Axes>"
      ]
     },
     "metadata": {},
     "output_type": "display_data"
    }
   ],
   "source": [
    "plt.plot(highs , color = 'green')\n",
    "plt.plot(lows , color = 'red')\n",
    "plt.plot(data)\n",
    "plt.xlim(2000 , 3000)"
   ]
  },
  {
   "cell_type": "code",
   "execution_count": 135,
   "id": "7577595b",
   "metadata": {},
   "outputs": [
    {
     "data": {
      "text/plain": [
       "388.5759887695313"
      ]
     },
     "execution_count": 135,
     "metadata": {},
     "output_type": "execute_result"
    }
   ],
   "source": [
    "highs[sell[0]]"
   ]
  },
  {
   "cell_type": "code",
   "execution_count": 136,
   "id": "b234f393",
   "metadata": {},
   "outputs": [
    {
     "data": {
      "text/plain": [
       "35"
      ]
     },
     "execution_count": 136,
     "metadata": {},
     "output_type": "execute_result"
    }
   ],
   "source": [
    "sell[0]"
   ]
  },
  {
   "cell_type": "code",
   "execution_count": 137,
   "id": "0be43a98",
   "metadata": {},
   "outputs": [
    {
     "data": {
      "text/plain": [
       "40"
      ]
     },
     "execution_count": 137,
     "metadata": {},
     "output_type": "execute_result"
    }
   ],
   "source": [
    "buy[0]"
   ]
  },
  {
   "cell_type": "code",
   "execution_count": 138,
   "id": "895665e3",
   "metadata": {},
   "outputs": [
    {
     "name": "stdout",
     "output_type": "stream",
     "text": [
      "0.5918367346938775\n"
     ]
    }
   ],
   "source": [
    "print((np.sum(np.array(profits)>0))/numtrades)"
   ]
  },
  {
   "cell_type": "code",
   "execution_count": 139,
   "id": "a9e5ff14",
   "metadata": {},
   "outputs": [
    {
     "data": {
      "text/plain": [
       "49"
      ]
     },
     "execution_count": 139,
     "metadata": {},
     "output_type": "execute_result"
    }
   ],
   "source": [
    "numtrades"
   ]
  },
  {
   "cell_type": "code",
   "execution_count": 140,
   "id": "f7a7c039",
   "metadata": {},
   "outputs": [
    {
     "data": {
      "text/plain": [
       "[-0.10020021015408859,\n",
       " -0.06808417507523427,\n",
       " -0.02840199173050428,\n",
       " 3.475024011633252,\n",
       " -0.019336818228913803,\n",
       " 0.08747945514566174,\n",
       " -0.05722506212820744,\n",
       " 0.12882311711091396,\n",
       " 0.024980780502072607,\n",
       " 0.0,\n",
       " 0.07950422697828677,\n",
       " 0.013330056564508844,\n",
       " 0.09108039122123923,\n",
       " 0.13057168340946504,\n",
       " 0.7308873606829103,\n",
       " 0.0,\n",
       " -0.10064208458367517,\n",
       " 0.015247870954913615,\n",
       " 0.01972500266463361,\n",
       " 0.14114779059077004,\n",
       " -0.10080324887440703,\n",
       " 0.04161590635716388,\n",
       " 0.08931496814969735,\n",
       " 0.010189825183002354,\n",
       " 0.5274948843005536,\n",
       " 0.0562773707052739,\n",
       " -0.10056159909015668,\n",
       " 0.048071603406408314,\n",
       " 0.019718429085294684,\n",
       " -0.10080324887440703,\n",
       " 0.7674637106371303,\n",
       " -0.10161294983635642,\n",
       " -0.10157231075279244,\n",
       " -0.014089958501027839,\n",
       " -0.0034894516437572105,\n",
       " 0.054271609700166326,\n",
       " 0.29758081031591677,\n",
       " -0.05792563546587522,\n",
       " -0.06506196985403367,\n",
       " 0.0,\n",
       " 0.04310968956660673,\n",
       " 0.004124731116736677,\n",
       " -0.10048117796250156,\n",
       " 0.05736753123369034,\n",
       " 0.008572816656820638,\n",
       " 0.1801408003695608,\n",
       " 0.006495946917632711,\n",
       " -0.012190125781053805,\n",
       " 0.012482808213052029]"
      ]
     },
     "execution_count": 140,
     "metadata": {},
     "output_type": "execute_result"
    }
   ],
   "source": [
    "profits"
   ]
  },
  {
   "cell_type": "code",
   "execution_count": null,
   "id": "c4530d9b",
   "metadata": {},
   "outputs": [],
   "source": []
  },
  {
   "cell_type": "code",
   "execution_count": null,
   "id": "c2cd218d",
   "metadata": {},
   "outputs": [],
   "source": []
  }
 ],
 "metadata": {
  "kernelspec": {
   "display_name": "Python 3 (ipykernel)",
   "language": "python",
   "name": "python3"
  },
  "language_info": {
   "codemirror_mode": {
    "name": "ipython",
    "version": 3
   },
   "file_extension": ".py",
   "mimetype": "text/x-python",
   "name": "python",
   "nbconvert_exporter": "python",
   "pygments_lexer": "ipython3",
   "version": "3.9.6"
  }
 },
 "nbformat": 4,
 "nbformat_minor": 5
}
