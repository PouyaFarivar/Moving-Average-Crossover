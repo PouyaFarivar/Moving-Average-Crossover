{
 "cells": [
  {
   "cell_type": "code",
   "execution_count": 1,
   "id": "5ee433df",
   "metadata": {},
   "outputs": [],
   "source": [
    "import numpy as np\n",
    "import pandas as pd\n",
    "import matplotlib.pyplot as plt\n",
    "from imblearn.over_sampling import SMOTE\n",
    "from sklearn import svm\n",
    "from sklearn.model_selection import train_test_split\n",
    "from sklearn.metrics import accuracy_score\n",
    "from sklearn.tree import DecisionTreeClassifier\n",
    "from sklearn.decomposition import PCA\n"
   ]
  },
  {
   "cell_type": "code",
   "execution_count": 2,
   "id": "cf9e87eb",
   "metadata": {},
   "outputs": [],
   "source": [
    "df = pd.read_csv('BTC_daily.csv')"
   ]
  },
  {
   "cell_type": "code",
   "execution_count": 3,
   "id": "dafc3d7e",
   "metadata": {},
   "outputs": [
    {
     "data": {
      "text/html": [
       "<div>\n",
       "<style scoped>\n",
       "    .dataframe tbody tr th:only-of-type {\n",
       "        vertical-align: middle;\n",
       "    }\n",
       "\n",
       "    .dataframe tbody tr th {\n",
       "        vertical-align: top;\n",
       "    }\n",
       "\n",
       "    .dataframe thead th {\n",
       "        text-align: right;\n",
       "    }\n",
       "</style>\n",
       "<table border=\"1\" class=\"dataframe\">\n",
       "  <thead>\n",
       "    <tr style=\"text-align: right;\">\n",
       "      <th></th>\n",
       "      <th>Date</th>\n",
       "      <th>Open</th>\n",
       "      <th>High</th>\n",
       "      <th>Low</th>\n",
       "      <th>Close</th>\n",
       "      <th>Adj Close</th>\n",
       "      <th>Volume</th>\n",
       "    </tr>\n",
       "  </thead>\n",
       "  <tbody>\n",
       "    <tr>\n",
       "      <th>0</th>\n",
       "      <td>2014-09-17</td>\n",
       "      <td>465.864014</td>\n",
       "      <td>468.174011</td>\n",
       "      <td>452.421997</td>\n",
       "      <td>457.334015</td>\n",
       "      <td>457.334015</td>\n",
       "      <td>21056800</td>\n",
       "    </tr>\n",
       "    <tr>\n",
       "      <th>1</th>\n",
       "      <td>2014-09-18</td>\n",
       "      <td>456.859985</td>\n",
       "      <td>456.859985</td>\n",
       "      <td>413.104004</td>\n",
       "      <td>424.440002</td>\n",
       "      <td>424.440002</td>\n",
       "      <td>34483200</td>\n",
       "    </tr>\n",
       "    <tr>\n",
       "      <th>2</th>\n",
       "      <td>2014-09-19</td>\n",
       "      <td>424.102997</td>\n",
       "      <td>427.834991</td>\n",
       "      <td>384.532013</td>\n",
       "      <td>394.795990</td>\n",
       "      <td>394.795990</td>\n",
       "      <td>37919700</td>\n",
       "    </tr>\n",
       "    <tr>\n",
       "      <th>3</th>\n",
       "      <td>2014-09-20</td>\n",
       "      <td>394.673004</td>\n",
       "      <td>423.295990</td>\n",
       "      <td>389.882996</td>\n",
       "      <td>408.903992</td>\n",
       "      <td>408.903992</td>\n",
       "      <td>36863600</td>\n",
       "    </tr>\n",
       "    <tr>\n",
       "      <th>4</th>\n",
       "      <td>2014-09-21</td>\n",
       "      <td>408.084991</td>\n",
       "      <td>412.425995</td>\n",
       "      <td>393.181000</td>\n",
       "      <td>398.821014</td>\n",
       "      <td>398.821014</td>\n",
       "      <td>26580100</td>\n",
       "    </tr>\n",
       "    <tr>\n",
       "      <th>...</th>\n",
       "      <td>...</td>\n",
       "      <td>...</td>\n",
       "      <td>...</td>\n",
       "      <td>...</td>\n",
       "      <td>...</td>\n",
       "      <td>...</td>\n",
       "      <td>...</td>\n",
       "    </tr>\n",
       "    <tr>\n",
       "      <th>3273</th>\n",
       "      <td>2023-09-03</td>\n",
       "      <td>25869.472656</td>\n",
       "      <td>26087.148438</td>\n",
       "      <td>25817.031250</td>\n",
       "      <td>25969.566406</td>\n",
       "      <td>25969.566406</td>\n",
       "      <td>8962524523</td>\n",
       "    </tr>\n",
       "    <tr>\n",
       "      <th>3274</th>\n",
       "      <td>2023-09-04</td>\n",
       "      <td>25968.169922</td>\n",
       "      <td>26081.525391</td>\n",
       "      <td>25657.025391</td>\n",
       "      <td>25812.416016</td>\n",
       "      <td>25812.416016</td>\n",
       "      <td>10680635106</td>\n",
       "    </tr>\n",
       "    <tr>\n",
       "      <th>3275</th>\n",
       "      <td>2023-09-05</td>\n",
       "      <td>25814.957031</td>\n",
       "      <td>25858.375000</td>\n",
       "      <td>25589.988281</td>\n",
       "      <td>25779.982422</td>\n",
       "      <td>25779.982422</td>\n",
       "      <td>11094740040</td>\n",
       "    </tr>\n",
       "    <tr>\n",
       "      <th>3276</th>\n",
       "      <td>2023-09-06</td>\n",
       "      <td>25783.931641</td>\n",
       "      <td>25953.015625</td>\n",
       "      <td>25404.359375</td>\n",
       "      <td>25753.236328</td>\n",
       "      <td>25753.236328</td>\n",
       "      <td>12752705327</td>\n",
       "    </tr>\n",
       "    <tr>\n",
       "      <th>3277</th>\n",
       "      <td>2023-09-07</td>\n",
       "      <td>25749.324219</td>\n",
       "      <td>25826.830078</td>\n",
       "      <td>25620.894531</td>\n",
       "      <td>25724.125000</td>\n",
       "      <td>25724.125000</td>\n",
       "      <td>11072476160</td>\n",
       "    </tr>\n",
       "  </tbody>\n",
       "</table>\n",
       "<p>3278 rows × 7 columns</p>\n",
       "</div>"
      ],
      "text/plain": [
       "            Date          Open          High           Low         Close  \\\n",
       "0     2014-09-17    465.864014    468.174011    452.421997    457.334015   \n",
       "1     2014-09-18    456.859985    456.859985    413.104004    424.440002   \n",
       "2     2014-09-19    424.102997    427.834991    384.532013    394.795990   \n",
       "3     2014-09-20    394.673004    423.295990    389.882996    408.903992   \n",
       "4     2014-09-21    408.084991    412.425995    393.181000    398.821014   \n",
       "...          ...           ...           ...           ...           ...   \n",
       "3273  2023-09-03  25869.472656  26087.148438  25817.031250  25969.566406   \n",
       "3274  2023-09-04  25968.169922  26081.525391  25657.025391  25812.416016   \n",
       "3275  2023-09-05  25814.957031  25858.375000  25589.988281  25779.982422   \n",
       "3276  2023-09-06  25783.931641  25953.015625  25404.359375  25753.236328   \n",
       "3277  2023-09-07  25749.324219  25826.830078  25620.894531  25724.125000   \n",
       "\n",
       "         Adj Close       Volume  \n",
       "0       457.334015     21056800  \n",
       "1       424.440002     34483200  \n",
       "2       394.795990     37919700  \n",
       "3       408.903992     36863600  \n",
       "4       398.821014     26580100  \n",
       "...            ...          ...  \n",
       "3273  25969.566406   8962524523  \n",
       "3274  25812.416016  10680635106  \n",
       "3275  25779.982422  11094740040  \n",
       "3276  25753.236328  12752705327  \n",
       "3277  25724.125000  11072476160  \n",
       "\n",
       "[3278 rows x 7 columns]"
      ]
     },
     "execution_count": 3,
     "metadata": {},
     "output_type": "execute_result"
    }
   ],
   "source": [
    "df"
   ]
  },
  {
   "cell_type": "code",
   "execution_count": 4,
   "id": "4934095c",
   "metadata": {},
   "outputs": [],
   "source": [
    "data = df['Close'].values\n",
    "lows = df['Low'].values\n",
    "highs = df['High'].values\n",
    "data = data[:-1]\n",
    "lows = lows[:-1]\n",
    "highs = highs[:-1]"
   ]
  },
  {
   "cell_type": "code",
   "execution_count": 5,
   "id": "99cd6c93",
   "metadata": {},
   "outputs": [
    {
     "data": {
      "text/plain": [
       "[<matplotlib.lines.Line2D at 0x16bba0fa0>]"
      ]
     },
     "execution_count": 5,
     "metadata": {},
     "output_type": "execute_result"
    },
    {
     "data": {
      "image/png": "[encoded data removed]",
      "text/plain": [
       "<Figure size 640x480 with 1 Axes>"
      ]
     },
     "metadata": {},
     "output_type": "display_data"
    }
   ],
   "source": [
    "data = df['Close'].values\n",
    "plt.plot(data)"
   ]
  },
  {
   "cell_type": "code",
   "execution_count": 6,
   "id": "22113733",
   "metadata": {},
   "outputs": [],
   "source": [
    "def check(avgtradetime , avgtradeprofit):\n",
    "    print(\"The best model finished training with avrage trade time of \" + str(avgtradetime) + \" and avrage profit of \" + str(avgtradeprofit) + \" per year. :)\")"
   ]
  },
  {
   "cell_type": "code",
   "execution_count": 7,
   "id": "cb0b0968",
   "metadata": {},
   "outputs": [],
   "source": [
    "def SMA(n , dat):\n",
    "    sma_list = [0] * (n - 1)\n",
    "    for i in range(n, dat.shape[0]+1):\n",
    "        sma_list.append(np.mean(dat[i-n:i]))\n",
    "    return(sma_list)"
   ]
  },
  {
   "cell_type": "code",
   "execution_count": 8,
   "id": "18157a80",
   "metadata": {},
   "outputs": [],
   "source": [
    "def CUTS(sma1 , sma2): # sma1 shorter than sma2\n",
    "    buy = []\n",
    "    sell = []\n",
    "    old = 1\n",
    "    for i in range(len(sma1)):\n",
    "        if (sma1[i]>=sma2[i]):\n",
    "            new = 1\n",
    "        else:\n",
    "            new = -1\n",
    "        if (old != new):\n",
    "            if (new==-1) :\n",
    "                sell.append(i)\n",
    "            else:\n",
    "                buy.append(i)\n",
    "        old = new\n",
    "    return buy , sell"
   ]
  },
  {
   "cell_type": "code",
   "execution_count": 239,
   "id": "4a514e60",
   "metadata": {},
   "outputs": [],
   "source": [
    "def PROFITS (buys , sells , lows , highs, data , l , pos):\n",
    "    fees = 0.9999\n",
    "    profit = []\n",
    "    if (len(buys)>0):\n",
    "        if (buys[0] > sells[0]):\n",
    "            for i in range(len(buys)):\n",
    "                maxi = np.max(highs[sells[i]:buys[i]+1])\n",
    "                allowed = data[sells[i]] * (1 + 1/l)*(fees**(4*(buys[i] - sells[i] + np.argmax(highs[sells[i]:buys[i]+1]))))\n",
    "                if (allowed > maxi):\n",
    "                    p =  (((data[sells[i]] - data[buys[i]])/data[buys[i]])*l*pos)*(fees**(4*(buys[i] - sells[i])))\n",
    "                    profit.append(p)\n",
    "                    #print(\"short\")\n",
    "\n",
    "                else:\n",
    "                    p = -1 * pos*(fees**(4*(buys[i] - sells[i] + np.argmax(highs[sells[i]:buys[i]+1]))))\n",
    "                    profit.append(p)\n",
    "                if (i!=(len(buys)-1)):\n",
    "                    mini = np.min(lows[buys[i]:sells[i+1]])\n",
    "                    allowed = data[buys[i]] * (1 - 1/l)/(fees**(4*(buys[i] - sells[i+1] + np.argmin(lows[buys[i]:sells[i+1]+1]))))\n",
    "                    if (allowed < mini):\n",
    "                        p = (((data[sells[i+1]] - data[buys[i]+1])/data[buys[i]])*l*pos)*(fees**(4*(sells[i+1] - buys[i])))\n",
    "                        profit.append(p)\n",
    "                        #print(\"long\")\n",
    "                    else:\n",
    "                        p = -1 * pos*(fees**(4*(buys[i] - sells[i+1] + np.argmin(lows[buys[i]:sells[i+1]+1]))))\n",
    "                        profit.append(p)\n",
    "        else :\n",
    "            for i in range(len(buys)):\n",
    "                print(\"shit, we fuckedup in PROFITS function\")\n",
    "                p = (((data[sells[i]] - data[buys[i]])/data[buys[i]])*l*p)/(fees**(4*sells[i] - buys[i]))\n",
    "                profit.append(p)\n",
    "    profit = profit[1:]\n",
    "    return profit"
   ]
  },
  {
   "cell_type": "code",
   "execution_count": 240,
   "id": "e6a111b6",
   "metadata": {},
   "outputs": [],
   "source": [
    "def RATE(profs):\n",
    "    fees = 0.999\n",
    "    if (len(profs)>0):\n",
    "        numtrades = len(profs)\n",
    "        maxdrawdown = min(profs) \n",
    "        maxwin = max(profs)\n",
    "        allprofit = 1\n",
    "        multiplyer = [1] # your money in time\n",
    "        for i in profs: \n",
    "            multiplyer.append(allprofit * (1 + i) * fees)\n",
    "            allprofit = allprofit * (1 + i)*fees\n",
    "        return numtrades , maxdrawdown , maxwin , allprofit , multiplyer \n",
    "    else:\n",
    "        return 0 , 0  , 0 , 1 , [1]"
   ]
  },
  {
   "cell_type": "code",
   "execution_count": 241,
   "id": "4e49fb0f",
   "metadata": {},
   "outputs": [
    {
     "ename": "KeyboardInterrupt",
     "evalue": "",
     "output_type": "error",
     "traceback": [
      "\u001b[0;31m---------------------------------------------------------------------------\u001b[0m",
      "\u001b[0;31mKeyboardInterrupt\u001b[0m                         Traceback (most recent call last)",
      "Cell \u001b[0;32mIn[241], line 23\u001b[0m\n\u001b[1;32m     21\u001b[0m buys , sells \u001b[38;5;241m=\u001b[39m CUTS(smas[j , :] , smas[i , :])\n\u001b[1;32m     22\u001b[0m profits \u001b[38;5;241m=\u001b[39m PROFITS(buys , sells , lows[\u001b[38;5;241m-\u001b[39mN:] , highs[\u001b[38;5;241m-\u001b[39mN:] , data[\u001b[38;5;241m-\u001b[39mN:] , l , p)\n\u001b[0;32m---> 23\u001b[0m numtradess[i][j] , maxdrawdowns[i][j] ,maxwins[i][j] , allprofits[i][j] , multiplyers[i , j , \u001b[38;5;241m0\u001b[39m:(\u001b[38;5;28mlen\u001b[39m(profits)\u001b[38;5;241m+\u001b[39m\u001b[38;5;241m1\u001b[39m)]  \u001b[38;5;241m=\u001b[39m RATE (profits)\n",
      "\u001b[0;31mKeyboardInterrupt\u001b[0m: "
     ]
    }
   ],
   "source": [
    "N = 1095\n",
    "l = 1\n",
    "p = 0.35\n",
    "smas = np.zeros((200 , N) , dtype = float)\n",
    "for i in range (200):\n",
    "    smas [i , :] = SMA(i+1 , data[-N:])\n",
    "        \n",
    "numtradess = np.zeros((200 , 200) , dtype = float )\n",
    "maxdrawdowns = np.zeros((200 , 200) , dtype = float )\n",
    "maxwins = np.zeros((N , 200 , 200) , dtype = float )\n",
    "allprofits = np.zeros((200 , 200) , dtype = float )\n",
    "multiplyers = np.ones((200 , 200 , N) , dtype = float )\n",
    "\n",
    "for i in range (200):\n",
    "    for j in range (200):\n",
    "        if (i<j):\n",
    "            buys , sells = CUTS(smas[i , :] , smas[j , :])\n",
    "            profits = PROFITS(buys , sells , lows[-N:] , highs[-N:] , data[-N:] , l , p)\n",
    "            numtradess[i][j] , maxdrawdowns[i][j] ,maxwins[i][j] , allprofits[i][j] , multiplyers[i , j , 0:(len(profits)+1)]= RATE (profits)\n",
    "        if (j<i):\n",
    "            buys , sells = CUTS(smas[j , :] , smas[i , :])\n",
    "            profits = PROFITS(buys , sells , lows[-N:] , highs[-N:] , data[-N:] , l , p)\n",
    "            numtradess[i][j] , maxdrawdowns[i][j] ,maxwins[i][j] , allprofits[i][j] , multiplyers[i , j , 0:(len(profits)+1)]  = RATE (profits)"
   ]
  },
  {
   "cell_type": "code",
   "execution_count": 28,
   "id": "06cd4b4c",
   "metadata": {},
   "outputs": [
    {
     "data": {
      "text/plain": [
       "563.2717376849072"
      ]
     },
     "execution_count": 28,
     "metadata": {},
     "output_type": "execute_result"
    }
   ],
   "source": [
    "np.max(allprofits)"
   ]
  },
  {
   "cell_type": "code",
   "execution_count": 18,
   "id": "83b4c65d",
   "metadata": {},
   "outputs": [
    {
     "data": {
      "text/plain": [
       "563.2717376849072"
      ]
     },
     "execution_count": 18,
     "metadata": {},
     "output_type": "execute_result"
    }
   ],
   "source": [
    "allprofits[30][35]"
   ]
  },
  {
   "cell_type": "code",
   "execution_count": 19,
   "id": "2e81d76e",
   "metadata": {},
   "outputs": [
    {
     "data": {
      "text/plain": [
       "0.952013299488748"
      ]
     },
     "execution_count": 19,
     "metadata": {},
     "output_type": "execute_result"
    }
   ],
   "source": [
    "allprofits[0][119]"
   ]
  },
  {
   "cell_type": "code",
   "execution_count": 20,
   "id": "083d3211",
   "metadata": {},
   "outputs": [
    {
     "data": {
      "text/plain": [
       "-0.35"
      ]
     },
     "execution_count": 20,
     "metadata": {},
     "output_type": "execute_result"
    }
   ],
   "source": [
    "maxdrawdowns[30][35]"
   ]
  },
  {
   "cell_type": "code",
   "execution_count": 21,
   "id": "6cde4b24",
   "metadata": {},
   "outputs": [
    {
     "data": {
      "text/plain": [
       "11.013914158758265"
      ]
     },
     "execution_count": 21,
     "metadata": {},
     "output_type": "execute_result"
    }
   ],
   "source": [
    "np.max(maxwins[30][35])"
   ]
  },
  {
   "cell_type": "code",
   "execution_count": 22,
   "id": "cbb1f9ce",
   "metadata": {},
   "outputs": [
    {
     "data": {
      "text/plain": [
       "48.0"
      ]
     },
     "execution_count": 22,
     "metadata": {},
     "output_type": "execute_result"
    }
   ],
   "source": [
    "numtradess[30][35]"
   ]
  },
  {
   "cell_type": "code",
   "execution_count": 23,
   "id": "42f6f2e4",
   "metadata": {},
   "outputs": [
    {
     "name": "stdout",
     "output_type": "stream",
     "text": [
      "Best combination: 30 , 35\n"
     ]
    }
   ],
   "source": [
    "maxrow, maxcol = np.unravel_index(np.argmax(allprofits), allprofits.shape)\n",
    "print(\"Best combination: \" + str(maxrow) + \" , \" + str(maxcol))"
   ]
  },
  {
   "cell_type": "code",
   "execution_count": 24,
   "id": "af164cb5",
   "metadata": {},
   "outputs": [
    {
     "data": {
      "text/plain": [
       "<matplotlib.image.AxesImage at 0x128d6ad90>"
      ]
     },
     "execution_count": 24,
     "metadata": {},
     "output_type": "execute_result"
    },
    {
     "data": {
      "image/png": "[encoded data removed]",
      "text/plain": [
       "<Figure size 640x480 with 1 Axes>"
      ]
     },
     "metadata": {},
     "output_type": "display_data"
    }
   ],
   "source": [
    "plt.imshow(allprofits)"
   ]
  },
  {
   "cell_type": "code",
   "execution_count": 13,
   "id": "b5a3bb20",
   "metadata": {},
   "outputs": [],
   "source": [
    "N = 1095\n",
    "l = 10\n",
    "p = 0.35\n",
    "d = data[-N:]\n",
    "smas = np.zeros((200 , N) , dtype = float)\n",
    "for i in range (200):\n",
    "    smas [i , :] = SMA(i+1 , data[-N:])\n",
    "buy , sell = CUTS(smas[30 , :] , smas[35 , :])\n",
    "profits = PROFITS(buy , sell,lows[-N:] , highs[-N:], data[-N:] , l , p)\n",
    "numtrades , maxdrawdown , maxwin , allprofit , multiplyer = RATE(profits)"
   ]
  },
  {
   "cell_type": "code",
   "execution_count": 14,
   "id": "bc88d69e",
   "metadata": {},
   "outputs": [
    {
     "data": {
      "text/plain": [
       "563.2717376849072"
      ]
     },
     "execution_count": 14,
     "metadata": {},
     "output_type": "execute_result"
    }
   ],
   "source": [
    "allprofit"
   ]
  },
  {
   "cell_type": "code",
   "execution_count": 17,
   "id": "1acf0466",
   "metadata": {},
   "outputs": [
    {
     "data": {
      "text/plain": [
       "(50.0, 300.0)"
      ]
     },
     "execution_count": 17,
     "metadata": {},
     "output_type": "execute_result"
    },
    {
     "data": {
      "image/png": "[encoded data removed]",
      "text/plain": [
       "<Figure size 640x480 with 1 Axes>"
      ]
     },
     "metadata": {},
     "output_type": "display_data"
    }
   ],
   "source": [
    "d = data[-N:]\n",
    "t = np.linspace(0 , N , num = N)\n",
    "buys = np.zeros(N)\n",
    "sells = np.zeros(N)\n",
    "for i in range(N):\n",
    "    if i in buy:\n",
    "        buys[i] = d[i]\n",
    "    if i in sell:\n",
    "        sells[i] = d[i]\n",
    "plt.style.use('dark_background')\n",
    "plt.plot(data[-N:] , color = 'white')\n",
    "plt.plot(smas[30 , :] , color = 'blue')\n",
    "plt.plot(smas[35 , :] , color = 'yellow')\n",
    "plt.plot(t , buys , 'o' , color = 'green' , markersize = 5)\n",
    "plt.plot(t , sells , 'o' , color = 'red' , markersize = 5)\n",
    "plt.xlim(50 , 300)\n",
    "#plt.ylim(18000 , 32000)"
   ]
  },
  {
   "cell_type": "code",
   "execution_count": 16,
   "id": "368260f4",
   "metadata": {},
   "outputs": [
    {
     "data": {
      "text/plain": [
       "[<matplotlib.lines.Line2D at 0x169aacd00>]"
      ]
     },
     "execution_count": 16,
     "metadata": {},
     "output_type": "execute_result"
    },
    {
     "data": {
      "image/png": "[encoded data removed]",
      "text/plain": [
       "<Figure size 640x480 with 1 Axes>"
      ]
     },
     "metadata": {},
     "output_type": "display_data"
    }
   ],
   "source": [
    "plt.plot(multiplyer)"
   ]
  },
  {
   "cell_type": "code",
   "execution_count": 17,
   "id": "921c5f53",
   "metadata": {},
   "outputs": [
    {
     "name": "stdout",
     "output_type": "stream",
     "text": [
      "37\n",
      "10912.8232421875\n"
     ]
    }
   ],
   "source": [
    "print(buy[0])\n",
    "print(d[buy[0]])"
   ]
  },
  {
   "cell_type": "code",
   "execution_count": 18,
   "id": "ace75cda",
   "metadata": {},
   "outputs": [
    {
     "name": "stdout",
     "output_type": "stream",
     "text": [
      "78\n",
      "9905.1669921875\n"
     ]
    }
   ],
   "source": [
    "print(sell[1])\n",
    "print(d[sell[0]])"
   ]
  },
  {
   "cell_type": "code",
   "execution_count": 182,
   "id": "0c2351a6",
   "metadata": {},
   "outputs": [
    {
     "data": {
      "text/plain": [
       "[-0.07331499132675766,\n",
       " -0.09308203176565313,\n",
       " 0.13902417915311263,\n",
       " 0.9267416631496782,\n",
       " -0.0557696864922037,\n",
       " -0.34320645455593585,\n",
       " -0.3504202731274478,\n",
       " 0.10716299889719184,\n",
       " 0.001403144777095849,\n",
       " -0.34693335967387956,\n",
       " -0.09209926686481416,\n",
       " 0.5451505513594733,\n",
       " 1.5773730544059998,\n",
       " 0.17779754270618234,\n",
       " -0.02583572075491248,\n",
       " -0.08578796052028985,\n",
       " -0.18290456161402677,\n",
       " -0.3429319854708813,\n",
       " -0.23060496462995286,\n",
       " -0.09704948882581699,\n",
       " 11.013914158758265,\n",
       " -0.06740867557308208,\n",
       " 0.29677235868772095,\n",
       " -0.19980757931577964,\n",
       " 0.4444344285225844,\n",
       " 0.08729294425677421,\n",
       " 0.0,\n",
       " 0.278042260487026,\n",
       " 0.04658060561913885,\n",
       " 0.3182717014426819,\n",
       " 0.4537221392454259,\n",
       " 2.4207182359583057,\n",
       " 0.0,\n",
       " -0.34554832889085635,\n",
       " 0.053111985174092824,\n",
       " 0.06898229864539364,\n",
       " 0.47426603997736505,\n",
       " -0.34458209861133615,\n",
       " 0.1411811569696925,\n",
       " 0.31085662057112157,\n",
       " 0.03560736789678363,\n",
       " 1.7248558065459774,\n",
       " 0.19446551401578635,\n",
       " -0.3461016764449104,\n",
       " 0.16690990994948604,\n",
       " 0.06890416137442033,\n",
       " -0.35,\n",
       " 2.5075230796777,\n",
       " -0.35,\n",
       " -0.34252069334799856,\n",
       " -0.04919663511142704,\n",
       " -0.012096390353447055,\n",
       " 0.18753464038109266,\n",
       " 1.039867632824274,\n",
       " -0.2016074982546774,\n",
       " -0.3422467726799356,\n",
       " 0.0,\n",
       " 0.15076324859138437,\n",
       " 0.014218771699736506,\n",
       " -0.34665591010805535,\n",
       " 0.19337659821382427,\n",
       " 0.029813430855484515,\n",
       " 0.625969330982337,\n",
       " 0.022645048069796274,\n",
       " -0.04109092730060616,\n",
       " 0.04323778661791112]"
      ]
     },
     "execution_count": 182,
     "metadata": {},
     "output_type": "execute_result"
    }
   ],
   "source": [
    "profits"
   ]
  },
  {
   "cell_type": "code",
   "execution_count": 21,
   "id": "82cfcbb6",
   "metadata": {},
   "outputs": [
    {
     "data": {
      "text/plain": [
       "array([-0.35028013, -0.3393838 , -0.35014004, -0.10238972, -0.35084105,\n",
       "       -0.34485789, -0.35014004, -0.35      , -0.34115328, -0.11536445,\n",
       "       -0.34568658, -0.07331499, -0.09308203, -0.05576969, -0.34320645,\n",
       "       -0.35042027, -0.34693336, -0.09209927, -0.02583572, -0.08578796,\n",
       "       -0.18290456, -0.34293199, -0.23060496, -0.09704949, -0.06740868,\n",
       "       -0.19980758, -0.34554833, -0.3445821 , -0.34610168, -0.35      ,\n",
       "       -0.35      , -0.34252069, -0.04919664, -0.01209639, -0.2016075 ,\n",
       "       -0.34224677, -0.34665591, -0.04109093])"
      ]
     },
     "execution_count": 21,
     "metadata": {},
     "output_type": "execute_result"
    }
   ],
   "source": [
    "pp = np.array(profits)\n",
    "pp[pp<0]"
   ]
  },
  {
   "cell_type": "code",
   "execution_count": 86,
   "id": "64605d93",
   "metadata": {},
   "outputs": [],
   "source": [
    "def detail(buy , sell , profit):\n",
    "    result = np.zeros ((len(profit) , 4) , dtype = float)\n",
    "    "
   ]
  },
  {
   "cell_type": "code",
   "execution_count": 87,
   "id": "c35d10c1",
   "metadata": {},
   "outputs": [
    {
     "data": {
      "text/plain": [
       "[1,\n",
       " 0.7686256403346771,\n",
       " 0.6933368839269386,\n",
       " 8.321360116792585,\n",
       " 7.752667824100576,\n",
       " 10.043391895040925,\n",
       " 8.028609426300704,\n",
       " 11.585203068641182,\n",
       " 12.583913044761172,\n",
       " 12.57132913171641,\n",
       " 16.05062321092442,\n",
       " 16.781472689693235,\n",
       " 22.100418014800447,\n",
       " 32.095739087739155,\n",
       " 109.68068951399513,\n",
       " 109.57100882448114,\n",
       " 71.63722090046612,\n",
       " 75.36657389893004,\n",
       " 80.48496787409866,\n",
       " 118.53759861058742,\n",
       " 77.613972452886,\n",
       " 88.48303127791749,\n",
       " 115.87257879150091,\n",
       " 119.87849783734526,\n",
       " 326.32496929118753,\n",
       " 389.3941382584034,\n",
       " 254.36955003513944,\n",
       " 296.5295223766704,\n",
       " 316.6446787983535,\n",
       " 205.61322217771087,\n",
       " 720.4719291529444,\n",
       " 467.8384471954645,\n",
       " 307.2865037893358,\n",
       " 291.876872745958,\n",
       " 288.05786994192147,\n",
       " 341.73662029143287,\n",
       " 696.4003732125697,\n",
       " 555.4448353493742,\n",
       " 364.98028741626337,\n",
       " 364.6153071288471,\n",
       " 419.1663094224197,\n",
       " 424.70121314083787,\n",
       " 277.19855154793004,\n",
       " 330.4714622115921,\n",
       " 339.9836263496483,\n",
       " 552.2501465312058,\n",
       " 564.191121768311,\n",
       " 540.4669774146819,\n",
       " 563.2717376849072]"
      ]
     },
     "execution_count": 87,
     "metadata": {},
     "output_type": "execute_result"
    }
   ],
   "source": [
    "multiplyer"
   ]
  },
  {
   "cell_type": "code",
   "execution_count": 88,
   "id": "76e16610",
   "metadata": {},
   "outputs": [
    {
     "data": {
      "text/plain": [
       "(0.0, 35000.0)"
      ]
     },
     "execution_count": 88,
     "metadata": {},
     "output_type": "execute_result"
    },
    {
     "data": {
      "image/png": "[encoded data removed]",
      "text/plain": [
       "<Figure size 640x480 with 1 Axes>"
      ]
     },
     "metadata": {},
     "output_type": "display_data"
    }
   ],
   "source": [
    "d = data[-N:]\n",
    "#plt.plot(smas[30 , :])\n",
    "#plt.plot(smas[35 , :])\n",
    "t = np.linspace(0 , N , num = N)\n",
    "buys = np.zeros(N)\n",
    "sells = np.zeros(N)\n",
    "for i in range(N):\n",
    "    if i in buy:\n",
    "        buys[i] = d[i]\n",
    "    if i in sell:\n",
    "        sells[i] = d[i]\n",
    "plt.style.use('dark_background')\n",
    "plt.plot(data[-N:] , color = 'white')\n",
    "plt.plot(t , buys , 'o' , color = 'green' , markersize = 5)\n",
    "plt.plot(t , sells , 'o' , color = 'red' , markersize = 5)\n",
    "plt.xlim(2800,3189)\n",
    "plt.ylim(0 , 35000)"
   ]
  },
  {
   "cell_type": "code",
   "execution_count": 36,
   "id": "a3c2597c",
   "metadata": {},
   "outputs": [
    {
     "data": {
      "text/plain": [
       "[-0.34665591010805535,\n",
       " 0.19337659821382427,\n",
       " 0.029813430855484515,\n",
       " 0.625969330982337,\n",
       " 0.022645048069796274,\n",
       " -0.04109092730060616,\n",
       " 0.04323778661791112]"
      ]
     },
     "execution_count": 36,
     "metadata": {},
     "output_type": "execute_result"
    }
   ],
   "source": [
    "profits"
   ]
  },
  {
   "cell_type": "code",
   "execution_count": 93,
   "id": "7206d2d3",
   "metadata": {},
   "outputs": [
    {
     "data": {
      "text/plain": [
       "[35,\n",
       " 82,\n",
       " 236,\n",
       " 280,\n",
       " 301,\n",
       " 304,\n",
       " 307,\n",
       " 318,\n",
       " 388,\n",
       " 410,\n",
       " 462,\n",
       " 521,\n",
       " 530,\n",
       " 631,\n",
       " 655,\n",
       " 677,\n",
       " 803,\n",
       " 845,\n",
       " 873,\n",
       " 882,\n",
       " 911,\n",
       " 931,\n",
       " 990,\n",
       " 1007,\n",
       " 1059,\n",
       " 1074]"
      ]
     },
     "execution_count": 93,
     "metadata": {},
     "output_type": "execute_result"
    }
   ],
   "source": [
    "sell"
   ]
  },
  {
   "cell_type": "code",
   "execution_count": 35,
   "id": "5472e90b",
   "metadata": {},
   "outputs": [
    {
     "data": {
      "text/plain": [
       "26868.353515625"
      ]
     },
     "execution_count": 35,
     "metadata": {},
     "output_type": "execute_result"
    }
   ],
   "source": [
    "d[sell[-1]]"
   ]
  },
  {
   "cell_type": "code",
   "execution_count": 36,
   "id": "2c239dad",
   "metadata": {},
   "outputs": [],
   "source": [
    "# Merge the arrays\n",
    "merged_arr = np.concatenate((buy, sell))\n",
    "\n",
    "# Sort the merged array\n",
    "sorted = np.sort(merged_arr)\n",
    "\n",
    "diff = np.diff(sorted)\n",
    "\n",
    "avgtradetime = np.mean(diff)\n",
    "avgtradeprofit = allprofits[30][35] ** (1/3)"
   ]
  },
  {
   "cell_type": "code",
   "execution_count": 37,
   "id": "089c8890",
   "metadata": {},
   "outputs": [
    {
     "name": "stdout",
     "output_type": "stream",
     "text": [
      "The best model finished training with avrage trade time of 15.055555555555555 and avrage profit of 1.2238177716301686 per year. :)\n"
     ]
    }
   ],
   "source": [
    "check(avgtradetime  , avgtradeprofit)"
   ]
  },
  {
   "cell_type": "code",
   "execution_count": 100,
   "id": "c69c337a",
   "metadata": {},
   "outputs": [
    {
     "name": "stdout",
     "output_type": "stream",
     "text": [
      "43\n"
     ]
    }
   ],
   "source": [
    "N = 2000\n",
    "l = 10\n",
    "p = 0.35\n",
    "d = data[-N:]\n",
    "smas = np.zeros((200 , N) , dtype = float)\n",
    "for i in range (200):\n",
    "    smas [i , :] = SMA(i+1 , data[-N:])\n",
    "buy , sell = CUTS(smas[30 , :] , smas[35 , :])\n",
    "profits = PROFITS(buy , sell,lows[-N:] , highs[-N:], data[-N:] , l , p)\n",
    "numtrades , maxdrawdown , maxwin , allprofit , multiplyer = RATE(profits)\n",
    "print(len(buy))"
   ]
  },
  {
   "cell_type": "code",
   "execution_count": 101,
   "id": "45f6450a",
   "metadata": {},
   "outputs": [
    {
     "data": {
      "text/plain": [
       "213.34183697101963"
      ]
     },
     "execution_count": 101,
     "metadata": {},
     "output_type": "execute_result"
    }
   ],
   "source": [
    "allprofit"
   ]
  },
  {
   "cell_type": "code",
   "execution_count": 207,
   "id": "d0c8ff6c",
   "metadata": {},
   "outputs": [
    {
     "data": {
      "text/plain": [
       "(3190,)"
      ]
     },
     "execution_count": 207,
     "metadata": {},
     "output_type": "execute_result"
    },
    {
     "data": {
      "image/png": "[encoded data removed]",
      "text/plain": [
       "<Figure size 640x480 with 1 Axes>"
      ]
     },
     "metadata": {},
     "output_type": "display_data"
    }
   ],
   "source": [
    "plt.plot(smas[30 , :])\n",
    "plt.plot(smas[35 , -2000:-500])\n",
    "smas[30 , :].shape"
   ]
  },
  {
   "cell_type": "code",
   "execution_count": 160,
   "id": "15a479c2",
   "metadata": {},
   "outputs": [
    {
     "name": "stdout",
     "output_type": "stream",
     "text": [
      "23\n",
      "23\n",
      "13\n",
      "13\n"
     ]
    },
    {
     "data": {
      "text/plain": [
       "1.7261067668477617"
      ]
     },
     "execution_count": 160,
     "metadata": {},
     "output_type": "execute_result"
    }
   ],
   "source": [
    "#threshes\n",
    "f = 1\n",
    "thresh = 0.3\n",
    "N = 3190\n",
    "m = -1600\n",
    "smas = np.zeros((200 , N) , dtype = float)\n",
    "for i in range (200):\n",
    "    smas [i , :] = SMA(i+1 , data[-N:])\n",
    "l , p = 10 , 0.35\n",
    "buy , sell = CUTS(smas[30 , m:-500] , smas[35 , m:-500])\n",
    "profits = PROFITS(buy , sell,lows[m:-500] , highs[ m:-500], data[ m:-500] , l , p)\n",
    "numtrades , maxdrawdown , maxwin , allprofit , multiplyer = RATE(profits)\n",
    "xtrain , ytrain = SVMDATA(buy , sell , profits , data[m:-500] , smas[30 , m:-500] , smas[35 , -m:-500] , thresh , f)\n",
    "\n",
    "\n",
    "buy , sell = CUTS(smas[30 , -500:] , smas[35 , -500:])\n",
    "profits = PROFITS(buy , sell,lows[-500:] , highs[ -500:], data[-500:] , l , p)\n",
    "numtrades , maxdrawdown , maxwin , allprofit , multiplyer = RATE(profits)\n",
    "xtest , ytest = SVMDATA(buy , sell , profits , data[-500:] , smas[30 , -500:] , smas[35 , -500:] , thresh , f)\n",
    "\n",
    "allprofit"
   ]
  },
  {
   "cell_type": "code",
   "execution_count": 364,
   "id": "d9b80f8d",
   "metadata": {},
   "outputs": [
    {
     "name": "stdout",
     "output_type": "stream",
     "text": [
      "0\n",
      "1\n",
      "2\n",
      "3\n",
      "4\n",
      "5\n",
      "6\n",
      "7\n",
      "8\n",
      "9\n",
      "10\n",
      "11\n",
      "12\n",
      "13\n",
      "14\n",
      "15\n",
      "16\n",
      "17\n",
      "18\n",
      "19\n"
     ]
    }
   ],
   "source": [
    "N = 3190\n",
    "fs = [1 , 2 , 3 , 4 , 5 , 6 , 7 , 8 , 9 , 10 , 11 , 12 , 13 , 14 , 15 , 16 , 17 , 18 , 19 , 20]\n",
    "threshs = [-0.3 , -0.2 , -0.1 , 0 , 0.1 , 0.2 , 0.3 , 0.4 , 0.5 , 0.6 , 0.7 , 0.8 , 0.9 , 1 , 1.5 , 2]\n",
    "ts = [1.1  , 1.2 , 1.3 , 1.4 , 1.5 , 1.6 , 1.7 , 1.8 , 1.9 , 2 , 2.1 , 2.2 , 2.3 ,2.4 , 2.5]\n",
    "ms = [-1000 , -1100 , -1200 , -1300 , -1400 , -1500 , -1600 ]\n",
    "smas = np.zeros((200 , N) , dtype = float)\n",
    "for i in range (200):\n",
    "    smas [i , :] = SMA(i+1 , data[-N:])\n",
    "l , p = 10 , 0.35\n",
    "results = np.zeros ((len(fs) , len(threshs),  len(ms) , len(ts)) , dtype = float)\n",
    "for i in range(len(fs)):\n",
    "    print(i)\n",
    "    for j in range (len(threshs)):\n",
    "        for k in range(len(ms)):\n",
    "            for s in range(len(ts)):\n",
    "                \n",
    "                f = fs[i]\n",
    "                thresh = threshs[j]\n",
    "                m = ms[k]\n",
    "                t = ts[s]\n",
    "\n",
    "                buy , sell = CUTS(smas[30 , m:-500] , smas[35 , m:-500])\n",
    "                profits = PROFITS(buy , sell,lows[m:-500] , highs[ m:-500], data[ m:-500] , l , p)\n",
    "                numtrades , maxdrawdown , maxwin , allprofit , multiplyer = RATE(profits)\n",
    "                xtrain , ytrain = SVMDATA(buy , sell , profits , data[m:-500] , smas[30 , m:-500] , smas[35 , -m:-500] , thresh , f)\n",
    "\n",
    "\n",
    "                buy , sell = CUTS(smas[30 , -500:] , smas[35 , -500:])\n",
    "                profits = PROFITS(buy , sell,lows[-500:] , highs[ -500:], data[-500:] , l , p)\n",
    "                numtrades , maxdrawdown , maxwin , allprofit , multiplyer = RATE(profits)\n",
    "                xtest , ytest = SVMDATA(buy , sell , profits , data[-500:] , smas[30 , -500:] , smas[35 , -500:] , thresh , f)\n",
    "               \n",
    "                class_weights = {\n",
    "                    -1: tp,  # Class 0\n",
    "                    1: tf*t,  # Class 1\n",
    "                }\n",
    "                clf = DecisionTreeClassifier(class_weight=class_weights)            \n",
    "                \n",
    "                clf.fit(xtrain, ytrain)\n",
    "               \n",
    "                ypred = clf.predict(xtest)\n",
    "                \n",
    "                results[i][j][k][s] = accuracy_score(ytest, ypred)\n",
    "\n"
   ]
  },
  {
   "cell_type": "code",
   "execution_count": 365,
   "id": "a89fafe7",
   "metadata": {},
   "outputs": [
    {
     "data": {
      "text/plain": [
       "1.0"
      ]
     },
     "execution_count": 365,
     "metadata": {},
     "output_type": "execute_result"
    }
   ],
   "source": [
    "np.max(results[: , : , : , :])"
   ]
  },
  {
   "cell_type": "code",
   "execution_count": 366,
   "id": "e3862d22",
   "metadata": {},
   "outputs": [
    {
     "name": "stdout",
     "output_type": "stream",
     "text": [
      "9\n",
      "1.5\n",
      "-1300\n",
      "2.1\n"
     ]
    }
   ],
   "source": [
    "max1 , max2 , max3 , max4 = np.unravel_index(np.argmax(results), results.shape)\n",
    "print(fs[max1])\n",
    "print(threshs[max2])\n",
    "print(ms[max3])\n",
    "print(ts[max4])"
   ]
  },
  {
   "cell_type": "code",
   "execution_count": 375,
   "id": "94b2e302",
   "metadata": {},
   "outputs": [],
   "source": [
    "f = 9\n",
    "thresh = 1.5\n",
    "m = -1300\n",
    "t = 2.1\n",
    "smas = np.zeros((200 , N) , dtype = float)\n",
    "for i in range (200):\n",
    "    smas [i , :] = SMA(i+1 , data[-N:])\n",
    "buy , sell = CUTS(smas[30 , m:-500] , smas[35 , m:-500])\n",
    "profits = PROFITS(buy , sell,lows[m:-500] , highs[ m:-500], data[ m:-500] , l , p)\n",
    "numtrades , maxdrawdown , maxwin , allprofit , multiplyer = RATE(profits)\n",
    "xtrain , ytrain = SVMDATA(buy , sell , profits , data[m:-500] , smas[30 , m:-500] , smas[35 , -m:-500] , thresh , f)\n",
    "tp = np.mean(ytrain == 1)\n",
    "tf = 1 - tp\n",
    "\n",
    "buy , sell = CUTS(smas[30 , -500:] , smas[35 , -500:])\n",
    "profits = PROFITS(buy , sell,lows[-500:] , highs[ -500:], data[-500:] , l , p)\n",
    "numtrades , maxdrawdown , maxwin , allprofit , multiplyer = RATE(profits)\n",
    "xtest , ytest = SVMDATA(buy , sell , profits , data[-500:] , smas[30 , -500:] , smas[35 , -500:] , thresh , f)\n",
    "\n",
    "class_weights = {\n",
    "    -1: tp,  # Class 0\n",
    "    1: tf*t,  # Class 1\n",
    "}\n",
    "\n",
    "# Create a decision tree classifier with class weights\n",
    "#clf = svm.SVC(class_weight=class_weights)\n",
    "clf = DecisionTreeClassifier(class_weight=class_weights)\n",
    "\n",
    "clf.fit(xtrain, ytrain)\n",
    "               \n",
    "ypred = clf.predict(xtest)"
   ]
  },
  {
   "cell_type": "code",
   "execution_count": 376,
   "id": "3a38e449",
   "metadata": {},
   "outputs": [
    {
     "data": {
      "text/plain": [
       "[0.19446551401578635,\n",
       " -0.3461016764449104,\n",
       " 0.16690990994948604,\n",
       " 0.06890416137442033,\n",
       " -0.35,\n",
       " 2.5075230796777,\n",
       " -0.35,\n",
       " -0.34252069334799856,\n",
       " -0.04919663511142704,\n",
       " -0.012096390353447055,\n",
       " 0.18753464038109266,\n",
       " 1.039867632824274,\n",
       " -0.2016074982546774,\n",
       " -0.3422467726799356,\n",
       " 0.0,\n",
       " 0.15076324859138437,\n",
       " 0.014218771699736506,\n",
       " -0.34665591010805535,\n",
       " 0.19337659821382427,\n",
       " 0.029813430855484515,\n",
       " 0.625969330982337,\n",
       " 0.022645048069796274,\n",
       " -0.04109092730060616,\n",
       " 0.04323778661791112]"
      ]
     },
     "execution_count": 376,
     "metadata": {},
     "output_type": "execute_result"
    }
   ],
   "source": [
    "profits"
   ]
  },
  {
   "cell_type": "code",
   "execution_count": 377,
   "id": "8c1411ba",
   "metadata": {},
   "outputs": [
    {
     "data": {
      "text/plain": [
       "array([-1., -1., -1., -1., -1.,  1., -1., -1., -1., -1., -1., -1., -1.,\n",
       "       -1., -1., -1., -1., -1., -1., -1., -1., -1., -1., -1.])"
      ]
     },
     "execution_count": 377,
     "metadata": {},
     "output_type": "execute_result"
    }
   ],
   "source": [
    "ytest"
   ]
  },
  {
   "cell_type": "code",
   "execution_count": 378,
   "id": "2783b5bb",
   "metadata": {},
   "outputs": [
    {
     "data": {
      "text/plain": [
       "array([-1., -1., -1., -1., -1., -1., -1., -1.,  1., -1., -1., -1., -1.,\n",
       "       -1., -1., -1., -1., -1., -1., -1., -1., -1.,  1., -1.])"
      ]
     },
     "execution_count": 378,
     "metadata": {},
     "output_type": "execute_result"
    }
   ],
   "source": [
    "ypred"
   ]
  },
  {
   "cell_type": "code",
   "execution_count": 245,
   "id": "c6a264be",
   "metadata": {},
   "outputs": [
    {
     "data": {
      "text/plain": [
       "0.9166666666666666"
      ]
     },
     "execution_count": 245,
     "metadata": {},
     "output_type": "execute_result"
    }
   ],
   "source": [
    "np.max(results)"
   ]
  },
  {
   "cell_type": "code",
   "execution_count": null,
   "id": "a7e021e0",
   "metadata": {},
   "outputs": [],
   "source": [
    "clf = svm.SVC(kernel='linear')  # You can choose different kernel types like 'linear', 'rbf', 'poly', etc.\n",
    "clf.fit(xtrain, ytrain)"
   ]
  },
  {
   "cell_type": "code",
   "execution_count": 214,
   "id": "5676517c",
   "metadata": {},
   "outputs": [
    {
     "data": {
      "text/plain": [
       "array([-1., -1., -1., -1., -1.,  1., -1., -1., -1., -1., -1.,  1., -1.,\n",
       "       -1., -1., -1., -1., -1., -1., -1.,  1., -1., -1., -1.])"
      ]
     },
     "execution_count": 214,
     "metadata": {},
     "output_type": "execute_result"
    }
   ],
   "source": [
    "ytest"
   ]
  },
  {
   "cell_type": "code",
   "execution_count": 320,
   "id": "35b9ea9a",
   "metadata": {},
   "outputs": [
    {
     "data": {
      "text/plain": [
       "array([ 1.,  1., -1., -1., -1.,  1., -1., -1.,  1., -1., -1., -1., -1.,\n",
       "        1., -1., -1., -1.,  1., -1., -1., -1., -1.,  1., -1.])"
      ]
     },
     "execution_count": 320,
     "metadata": {},
     "output_type": "execute_result"
    }
   ],
   "source": [
    "ypred = clf.predict(xtest)\n",
    "n = ypred.shape[0]-1\n",
    "ypred"
   ]
  },
  {
   "cell_type": "code",
   "execution_count": 218,
   "id": "09ed4c58",
   "metadata": {},
   "outputs": [
    {
     "data": {
      "text/plain": [
       "0.75"
      ]
     },
     "execution_count": 218,
     "metadata": {},
     "output_type": "execute_result"
    }
   ],
   "source": [
    "np.matmul(ytest , ypred)/ypred.shape[0]"
   ]
  },
  {
   "cell_type": "code",
   "execution_count": 321,
   "id": "ad668334",
   "metadata": {},
   "outputs": [],
   "source": [
    "sprof = np.zeros ((n))\n",
    "pp = profits[:]\n",
    "for i in range(n):\n",
    "    if (ypred[i] == -1):\n",
    "        sprof [i] = 0\n",
    "    else:\n",
    "        sprof [i] = pp[i]"
   ]
  },
  {
   "cell_type": "code",
   "execution_count": 322,
   "id": "b29f8d69",
   "metadata": {},
   "outputs": [
    {
     "data": {
      "text/plain": [
       "1.0489715229951193"
      ]
     },
     "execution_count": 322,
     "metadata": {},
     "output_type": "execute_result"
    }
   ],
   "source": [
    "numtrades , maxdrawdown , maxwin , allprofit , multiplyer = RATE(sprof)\n",
    "allprofit"
   ]
  },
  {
   "cell_type": "code",
   "execution_count": 182,
   "id": "a23d502a",
   "metadata": {},
   "outputs": [
    {
     "ename": "KeyboardInterrupt",
     "evalue": "",
     "output_type": "error",
     "traceback": [
      "\u001b[0;31m---------------------------------------------------------------------------\u001b[0m",
      "\u001b[0;31mKeyboardInterrupt\u001b[0m                         Traceback (most recent call last)",
      "Cell \u001b[0;32mIn[182], line 6\u001b[0m\n\u001b[1;32m      4\u001b[0m X , y \u001b[38;5;241m=\u001b[39m SVMDATA(buy , sell , profits , data[\u001b[38;5;241m-\u001b[39mN:] , smas[\u001b[38;5;241m30\u001b[39m , :] , smas[\u001b[38;5;241m35\u001b[39m , :] , \u001b[38;5;241m0.1\u001b[39m)\n\u001b[1;32m      5\u001b[0m smote \u001b[38;5;241m=\u001b[39m SMOTE()\n\u001b[0;32m----> 6\u001b[0m X_resampled, y_resampled \u001b[38;5;241m=\u001b[39m \u001b[43msmote\u001b[49m\u001b[38;5;241;43m.\u001b[39;49m\u001b[43mfit_resample\u001b[49m\u001b[43m(\u001b[49m\u001b[43mX\u001b[49m\u001b[43m,\u001b[49m\u001b[43m \u001b[49m\u001b[43my\u001b[49m\u001b[43m)\u001b[49m\n\u001b[1;32m      7\u001b[0m X_train, X_test, y_train, y_test \u001b[38;5;241m=\u001b[39m train_test_split(X_resampled, y_resampled, test_size\u001b[38;5;241m=\u001b[39m\u001b[38;5;241m0.01\u001b[39m, random_state\u001b[38;5;241m=\u001b[39mi)\n\u001b[1;32m      8\u001b[0m clf\u001b[38;5;241m.\u001b[39mfit(X_train, y_train)\n",
      "File \u001b[0;32m~/Library/Python/3.9/lib/python/site-packages/imblearn/base.py:203\u001b[0m, in \u001b[0;36mBaseSampler.fit_resample\u001b[0;34m(self, X, y)\u001b[0m\n\u001b[1;32m    182\u001b[0m \u001b[38;5;250m\u001b[39m\u001b[38;5;124;03m\"\"\"Resample the dataset.\u001b[39;00m\n\u001b[1;32m    183\u001b[0m \n\u001b[1;32m    184\u001b[0m \u001b[38;5;124;03mParameters\u001b[39;00m\n\u001b[0;32m   (...)\u001b[0m\n\u001b[1;32m    200\u001b[0m \u001b[38;5;124;03m    The corresponding label of `X_resampled`.\u001b[39;00m\n\u001b[1;32m    201\u001b[0m \u001b[38;5;124;03m\"\"\"\u001b[39;00m\n\u001b[1;32m    202\u001b[0m \u001b[38;5;28mself\u001b[39m\u001b[38;5;241m.\u001b[39m_validate_params()\n\u001b[0;32m--> 203\u001b[0m \u001b[38;5;28;01mreturn\u001b[39;00m \u001b[38;5;28;43msuper\u001b[39;49m\u001b[43m(\u001b[49m\u001b[43m)\u001b[49m\u001b[38;5;241;43m.\u001b[39;49m\u001b[43mfit_resample\u001b[49m\u001b[43m(\u001b[49m\u001b[43mX\u001b[49m\u001b[43m,\u001b[49m\u001b[43m \u001b[49m\u001b[43my\u001b[49m\u001b[43m)\u001b[49m\n",
      "File \u001b[0;32m~/Library/Python/3.9/lib/python/site-packages/imblearn/base.py:88\u001b[0m, in \u001b[0;36mSamplerMixin.fit_resample\u001b[0;34m(self, X, y)\u001b[0m\n\u001b[1;32m     82\u001b[0m X, y, binarize_y \u001b[38;5;241m=\u001b[39m \u001b[38;5;28mself\u001b[39m\u001b[38;5;241m.\u001b[39m_check_X_y(X, y)\n\u001b[1;32m     84\u001b[0m \u001b[38;5;28mself\u001b[39m\u001b[38;5;241m.\u001b[39msampling_strategy_ \u001b[38;5;241m=\u001b[39m check_sampling_strategy(\n\u001b[1;32m     85\u001b[0m     \u001b[38;5;28mself\u001b[39m\u001b[38;5;241m.\u001b[39msampling_strategy, y, \u001b[38;5;28mself\u001b[39m\u001b[38;5;241m.\u001b[39m_sampling_type\n\u001b[1;32m     86\u001b[0m )\n\u001b[0;32m---> 88\u001b[0m output \u001b[38;5;241m=\u001b[39m \u001b[38;5;28;43mself\u001b[39;49m\u001b[38;5;241;43m.\u001b[39;49m\u001b[43m_fit_resample\u001b[49m\u001b[43m(\u001b[49m\u001b[43mX\u001b[49m\u001b[43m,\u001b[49m\u001b[43m \u001b[49m\u001b[43my\u001b[49m\u001b[43m)\u001b[49m\n\u001b[1;32m     90\u001b[0m y_ \u001b[38;5;241m=\u001b[39m (\n\u001b[1;32m     91\u001b[0m     label_binarize(output[\u001b[38;5;241m1\u001b[39m], classes\u001b[38;5;241m=\u001b[39mnp\u001b[38;5;241m.\u001b[39munique(y)) \u001b[38;5;28;01mif\u001b[39;00m binarize_y \u001b[38;5;28;01melse\u001b[39;00m output[\u001b[38;5;241m1\u001b[39m]\n\u001b[1;32m     92\u001b[0m )\n\u001b[1;32m     94\u001b[0m X_, y_ \u001b[38;5;241m=\u001b[39m arrays_transformer\u001b[38;5;241m.\u001b[39mtransform(output[\u001b[38;5;241m0\u001b[39m], y_)\n",
      "File \u001b[0;32m~/Library/Python/3.9/lib/python/site-packages/imblearn/over_sampling/_smote/base.py:355\u001b[0m, in \u001b[0;36mSMOTE._fit_resample\u001b[0;34m(self, X, y)\u001b[0m\n\u001b[1;32m    352\u001b[0m X_class \u001b[38;5;241m=\u001b[39m _safe_indexing(X, target_class_indices)\n\u001b[1;32m    354\u001b[0m \u001b[38;5;28mself\u001b[39m\u001b[38;5;241m.\u001b[39mnn_k_\u001b[38;5;241m.\u001b[39mfit(X_class)\n\u001b[0;32m--> 355\u001b[0m nns \u001b[38;5;241m=\u001b[39m \u001b[38;5;28;43mself\u001b[39;49m\u001b[38;5;241;43m.\u001b[39;49m\u001b[43mnn_k_\u001b[49m\u001b[38;5;241;43m.\u001b[39;49m\u001b[43mkneighbors\u001b[49m\u001b[43m(\u001b[49m\u001b[43mX_class\u001b[49m\u001b[43m,\u001b[49m\u001b[43m \u001b[49m\u001b[43mreturn_distance\u001b[49m\u001b[38;5;241;43m=\u001b[39;49m\u001b[38;5;28;43;01mFalse\u001b[39;49;00m\u001b[43m)\u001b[49m[:, \u001b[38;5;241m1\u001b[39m:]\n\u001b[1;32m    356\u001b[0m X_new, y_new \u001b[38;5;241m=\u001b[39m \u001b[38;5;28mself\u001b[39m\u001b[38;5;241m.\u001b[39m_make_samples(\n\u001b[1;32m    357\u001b[0m     X_class, y\u001b[38;5;241m.\u001b[39mdtype, class_sample, X_class, nns, n_samples, \u001b[38;5;241m1.0\u001b[39m\n\u001b[1;32m    358\u001b[0m )\n\u001b[1;32m    359\u001b[0m X_resampled\u001b[38;5;241m.\u001b[39mappend(X_new)\n",
      "File \u001b[0;32m~/Library/Python/3.9/lib/python/site-packages/sklearn/neighbors/_base.py:824\u001b[0m, in \u001b[0;36mKNeighborsMixin.kneighbors\u001b[0;34m(self, X, n_neighbors, return_distance)\u001b[0m\n\u001b[1;32m    817\u001b[0m use_pairwise_distances_reductions \u001b[38;5;241m=\u001b[39m (\n\u001b[1;32m    818\u001b[0m     \u001b[38;5;28mself\u001b[39m\u001b[38;5;241m.\u001b[39m_fit_method \u001b[38;5;241m==\u001b[39m \u001b[38;5;124m\"\u001b[39m\u001b[38;5;124mbrute\u001b[39m\u001b[38;5;124m\"\u001b[39m\n\u001b[1;32m    819\u001b[0m     \u001b[38;5;129;01mand\u001b[39;00m ArgKmin\u001b[38;5;241m.\u001b[39mis_usable_for(\n\u001b[1;32m    820\u001b[0m         X \u001b[38;5;28;01mif\u001b[39;00m X \u001b[38;5;129;01mis\u001b[39;00m \u001b[38;5;129;01mnot\u001b[39;00m \u001b[38;5;28;01mNone\u001b[39;00m \u001b[38;5;28;01melse\u001b[39;00m \u001b[38;5;28mself\u001b[39m\u001b[38;5;241m.\u001b[39m_fit_X, \u001b[38;5;28mself\u001b[39m\u001b[38;5;241m.\u001b[39m_fit_X, \u001b[38;5;28mself\u001b[39m\u001b[38;5;241m.\u001b[39meffective_metric_\n\u001b[1;32m    821\u001b[0m     )\n\u001b[1;32m    822\u001b[0m )\n\u001b[1;32m    823\u001b[0m \u001b[38;5;28;01mif\u001b[39;00m use_pairwise_distances_reductions:\n\u001b[0;32m--> 824\u001b[0m     results \u001b[38;5;241m=\u001b[39m \u001b[43mArgKmin\u001b[49m\u001b[38;5;241;43m.\u001b[39;49m\u001b[43mcompute\u001b[49m\u001b[43m(\u001b[49m\n\u001b[1;32m    825\u001b[0m \u001b[43m        \u001b[49m\u001b[43mX\u001b[49m\u001b[38;5;241;43m=\u001b[39;49m\u001b[43mX\u001b[49m\u001b[43m,\u001b[49m\n\u001b[1;32m    826\u001b[0m \u001b[43m        \u001b[49m\u001b[43mY\u001b[49m\u001b[38;5;241;43m=\u001b[39;49m\u001b[38;5;28;43mself\u001b[39;49m\u001b[38;5;241;43m.\u001b[39;49m\u001b[43m_fit_X\u001b[49m\u001b[43m,\u001b[49m\n\u001b[1;32m    827\u001b[0m \u001b[43m        \u001b[49m\u001b[43mk\u001b[49m\u001b[38;5;241;43m=\u001b[39;49m\u001b[43mn_neighbors\u001b[49m\u001b[43m,\u001b[49m\n\u001b[1;32m    828\u001b[0m \u001b[43m        \u001b[49m\u001b[43mmetric\u001b[49m\u001b[38;5;241;43m=\u001b[39;49m\u001b[38;5;28;43mself\u001b[39;49m\u001b[38;5;241;43m.\u001b[39;49m\u001b[43meffective_metric_\u001b[49m\u001b[43m,\u001b[49m\n\u001b[1;32m    829\u001b[0m \u001b[43m        \u001b[49m\u001b[43mmetric_kwargs\u001b[49m\u001b[38;5;241;43m=\u001b[39;49m\u001b[38;5;28;43mself\u001b[39;49m\u001b[38;5;241;43m.\u001b[39;49m\u001b[43meffective_metric_params_\u001b[49m\u001b[43m,\u001b[49m\n\u001b[1;32m    830\u001b[0m \u001b[43m        \u001b[49m\u001b[43mstrategy\u001b[49m\u001b[38;5;241;43m=\u001b[39;49m\u001b[38;5;124;43m\"\u001b[39;49m\u001b[38;5;124;43mauto\u001b[39;49m\u001b[38;5;124;43m\"\u001b[39;49m\u001b[43m,\u001b[49m\n\u001b[1;32m    831\u001b[0m \u001b[43m        \u001b[49m\u001b[43mreturn_distance\u001b[49m\u001b[38;5;241;43m=\u001b[39;49m\u001b[43mreturn_distance\u001b[49m\u001b[43m,\u001b[49m\n\u001b[1;32m    832\u001b[0m \u001b[43m    \u001b[49m\u001b[43m)\u001b[49m\n\u001b[1;32m    834\u001b[0m \u001b[38;5;28;01melif\u001b[39;00m (\n\u001b[1;32m    835\u001b[0m     \u001b[38;5;28mself\u001b[39m\u001b[38;5;241m.\u001b[39m_fit_method \u001b[38;5;241m==\u001b[39m \u001b[38;5;124m\"\u001b[39m\u001b[38;5;124mbrute\u001b[39m\u001b[38;5;124m\"\u001b[39m \u001b[38;5;129;01mand\u001b[39;00m \u001b[38;5;28mself\u001b[39m\u001b[38;5;241m.\u001b[39mmetric \u001b[38;5;241m==\u001b[39m \u001b[38;5;124m\"\u001b[39m\u001b[38;5;124mprecomputed\u001b[39m\u001b[38;5;124m\"\u001b[39m \u001b[38;5;129;01mand\u001b[39;00m issparse(X)\n\u001b[1;32m    836\u001b[0m ):\n\u001b[1;32m    837\u001b[0m     results \u001b[38;5;241m=\u001b[39m _kneighbors_from_graph(\n\u001b[1;32m    838\u001b[0m         X, n_neighbors\u001b[38;5;241m=\u001b[39mn_neighbors, return_distance\u001b[38;5;241m=\u001b[39mreturn_distance\n\u001b[1;32m    839\u001b[0m     )\n",
      "File \u001b[0;32m~/Library/Python/3.9/lib/python/site-packages/sklearn/metrics/_pairwise_distances_reduction/_dispatcher.py:277\u001b[0m, in \u001b[0;36mArgKmin.compute\u001b[0;34m(cls, X, Y, k, metric, chunk_size, metric_kwargs, strategy, return_distance)\u001b[0m\n\u001b[1;32m    196\u001b[0m \u001b[38;5;250m\u001b[39m\u001b[38;5;124;03m\"\"\"Compute the argkmin reduction.\u001b[39;00m\n\u001b[1;32m    197\u001b[0m \n\u001b[1;32m    198\u001b[0m \u001b[38;5;124;03mParameters\u001b[39;00m\n\u001b[0;32m   (...)\u001b[0m\n\u001b[1;32m    274\u001b[0m \u001b[38;5;124;03mreturns.\u001b[39;00m\n\u001b[1;32m    275\u001b[0m \u001b[38;5;124;03m\"\"\"\u001b[39;00m\n\u001b[1;32m    276\u001b[0m \u001b[38;5;28;01mif\u001b[39;00m X\u001b[38;5;241m.\u001b[39mdtype \u001b[38;5;241m==\u001b[39m Y\u001b[38;5;241m.\u001b[39mdtype \u001b[38;5;241m==\u001b[39m np\u001b[38;5;241m.\u001b[39mfloat64:\n\u001b[0;32m--> 277\u001b[0m     \u001b[38;5;28;01mreturn\u001b[39;00m \u001b[43mArgKmin64\u001b[49m\u001b[38;5;241;43m.\u001b[39;49m\u001b[43mcompute\u001b[49m\u001b[43m(\u001b[49m\n\u001b[1;32m    278\u001b[0m \u001b[43m        \u001b[49m\u001b[43mX\u001b[49m\u001b[38;5;241;43m=\u001b[39;49m\u001b[43mX\u001b[49m\u001b[43m,\u001b[49m\n\u001b[1;32m    279\u001b[0m \u001b[43m        \u001b[49m\u001b[43mY\u001b[49m\u001b[38;5;241;43m=\u001b[39;49m\u001b[43mY\u001b[49m\u001b[43m,\u001b[49m\n\u001b[1;32m    280\u001b[0m \u001b[43m        \u001b[49m\u001b[43mk\u001b[49m\u001b[38;5;241;43m=\u001b[39;49m\u001b[43mk\u001b[49m\u001b[43m,\u001b[49m\n\u001b[1;32m    281\u001b[0m \u001b[43m        \u001b[49m\u001b[43mmetric\u001b[49m\u001b[38;5;241;43m=\u001b[39;49m\u001b[43mmetric\u001b[49m\u001b[43m,\u001b[49m\n\u001b[1;32m    282\u001b[0m \u001b[43m        \u001b[49m\u001b[43mchunk_size\u001b[49m\u001b[38;5;241;43m=\u001b[39;49m\u001b[43mchunk_size\u001b[49m\u001b[43m,\u001b[49m\n\u001b[1;32m    283\u001b[0m \u001b[43m        \u001b[49m\u001b[43mmetric_kwargs\u001b[49m\u001b[38;5;241;43m=\u001b[39;49m\u001b[43mmetric_kwargs\u001b[49m\u001b[43m,\u001b[49m\n\u001b[1;32m    284\u001b[0m \u001b[43m        \u001b[49m\u001b[43mstrategy\u001b[49m\u001b[38;5;241;43m=\u001b[39;49m\u001b[43mstrategy\u001b[49m\u001b[43m,\u001b[49m\n\u001b[1;32m    285\u001b[0m \u001b[43m        \u001b[49m\u001b[43mreturn_distance\u001b[49m\u001b[38;5;241;43m=\u001b[39;49m\u001b[43mreturn_distance\u001b[49m\u001b[43m,\u001b[49m\n\u001b[1;32m    286\u001b[0m \u001b[43m    \u001b[49m\u001b[43m)\u001b[49m\n\u001b[1;32m    288\u001b[0m \u001b[38;5;28;01mif\u001b[39;00m X\u001b[38;5;241m.\u001b[39mdtype \u001b[38;5;241m==\u001b[39m Y\u001b[38;5;241m.\u001b[39mdtype \u001b[38;5;241m==\u001b[39m np\u001b[38;5;241m.\u001b[39mfloat32:\n\u001b[1;32m    289\u001b[0m     \u001b[38;5;28;01mreturn\u001b[39;00m ArgKmin32\u001b[38;5;241m.\u001b[39mcompute(\n\u001b[1;32m    290\u001b[0m         X\u001b[38;5;241m=\u001b[39mX,\n\u001b[1;32m    291\u001b[0m         Y\u001b[38;5;241m=\u001b[39mY,\n\u001b[0;32m   (...)\u001b[0m\n\u001b[1;32m    297\u001b[0m         return_distance\u001b[38;5;241m=\u001b[39mreturn_distance,\n\u001b[1;32m    298\u001b[0m     )\n",
      "File \u001b[0;32msklearn/metrics/_pairwise_distances_reduction/_argkmin.pyx:95\u001b[0m, in \u001b[0;36msklearn.metrics._pairwise_distances_reduction._argkmin.ArgKmin64.compute\u001b[0;34m()\u001b[0m\n",
      "File \u001b[0;32m~/Library/Python/3.9/lib/python/site-packages/sklearn/utils/fixes.py:134\u001b[0m, in \u001b[0;36mthreadpool_limits\u001b[0;34m(limits, user_api)\u001b[0m\n\u001b[1;32m    129\u001b[0m         sklearn\u001b[38;5;241m.\u001b[39m_sklearn_threadpool_controller \u001b[38;5;241m=\u001b[39m threadpoolctl\u001b[38;5;241m.\u001b[39mThreadpoolController()\n\u001b[1;32m    131\u001b[0m     \u001b[38;5;28;01mreturn\u001b[39;00m sklearn\u001b[38;5;241m.\u001b[39m_sklearn_threadpool_controller\n\u001b[0;32m--> 134\u001b[0m \u001b[38;5;28;01mdef\u001b[39;00m \u001b[38;5;21mthreadpool_limits\u001b[39m(limits\u001b[38;5;241m=\u001b[39m\u001b[38;5;28;01mNone\u001b[39;00m, user_api\u001b[38;5;241m=\u001b[39m\u001b[38;5;28;01mNone\u001b[39;00m):\n\u001b[1;32m    135\u001b[0m     controller \u001b[38;5;241m=\u001b[39m _get_threadpool_controller()\n\u001b[1;32m    136\u001b[0m     \u001b[38;5;28;01mif\u001b[39;00m controller \u001b[38;5;129;01mis\u001b[39;00m \u001b[38;5;129;01mnot\u001b[39;00m \u001b[38;5;28;01mNone\u001b[39;00m:\n",
      "\u001b[0;31mKeyboardInterrupt\u001b[0m: "
     ]
    }
   ],
   "source": [
    "#training\n",
    "clf = svm.SVC(kernel='rbf')  # You can choose different kernel types like 'linear', 'rbf', 'poly', etc.\n",
    "for i in range (10000):\n",
    "    X , y = SVMDATA(buy , sell , profits , data[-N:] , smas[30 , :] , smas[35 , :] , 0.1)\n",
    "    smote = SMOTE()\n",
    "    X_resampled, y_resampled = smote.fit_resample(X, y)\n",
    "    X_train, X_test, y_train, y_test = train_test_split(X_resampled, y_resampled, test_size=0.01, random_state=i)\n",
    "    clf.fit(X_train, y_train)"
   ]
  },
  {
   "cell_type": "code",
   "execution_count": 22,
   "id": "d970989d",
   "metadata": {},
   "outputs": [],
   "source": [
    "ynew = y[-60:]\n",
    "ynewpred = clf.predict(X[-60: , :])"
   ]
  },
  {
   "cell_type": "code",
   "execution_count": 23,
   "id": "48066879",
   "metadata": {},
   "outputs": [
    {
     "data": {
      "text/plain": [
       "array([-1., -1.,  1., -1.,  1., -1.,  1., -1., -1.,  1., -1.,  1.,  1.,\n",
       "        1., -1., -1., -1., -1.,  1., -1.,  1.,  1., -1.,  1.,  1., -1.,\n",
       "        1., -1., -1.,  1., -1., -1., -1., -1.,  1.,  1., -1., -1., -1.,\n",
       "        1., -1., -1.,  1., -1.,  1., -1., -1., -1.])"
      ]
     },
     "execution_count": 23,
     "metadata": {},
     "output_type": "execute_result"
    }
   ],
   "source": [
    "ynew"
   ]
  },
  {
   "cell_type": "code",
   "execution_count": 24,
   "id": "6f85f874",
   "metadata": {},
   "outputs": [
    {
     "data": {
      "text/plain": [
       "array([-1., -1.,  1., -1.,  1.,  1.,  1., -1., -1.,  1., -1.,  1., -1.,\n",
       "        1.,  1.,  1., -1., -1., -1., -1., -1.,  1., -1.,  1.,  1., -1.,\n",
       "       -1., -1., -1.,  1., -1., -1.,  1.,  1.,  1.,  1., -1., -1.,  1.,\n",
       "       -1.,  1.,  1., -1.,  1.,  1., -1., -1.,  1.])"
      ]
     },
     "execution_count": 24,
     "metadata": {},
     "output_type": "execute_result"
    }
   ],
   "source": [
    "ynewpred"
   ]
  },
  {
   "cell_type": "code",
   "execution_count": 35,
   "id": "1a1a55b3",
   "metadata": {},
   "outputs": [
    {
     "data": {
      "text/plain": [
       "1.543293589010988"
      ]
     },
     "execution_count": 35,
     "metadata": {},
     "output_type": "execute_result"
    }
   ],
   "source": [
    "numtrades , maxdrawdown , maxwin , allprofit , multiplyer = RATE(profits [-10:])\n",
    "allprofit"
   ]
  },
  {
   "cell_type": "code",
   "execution_count": 31,
   "id": "3393024e",
   "metadata": {},
   "outputs": [
    {
     "data": {
      "text/plain": [
       "[-0.23060496462995286,\n",
       " -0.09704948882581699,\n",
       " 11.013914158758265,\n",
       " -0.06740867557308208,\n",
       " 0.29677235868772095,\n",
       " -0.19980757931577964,\n",
       " 0.4444344285225844,\n",
       " 0.08729294425677421,\n",
       " 0.0,\n",
       " 0.278042260487026,\n",
       " 0.04658060561913885,\n",
       " 0.3182717014426819,\n",
       " 0.4537221392454259,\n",
       " 2.4207182359583057,\n",
       " 0.0,\n",
       " -0.34554832889085635,\n",
       " 0.053111985174092824,\n",
       " 0.06898229864539364,\n",
       " 0.47426603997736505,\n",
       " -0.34458209861133615,\n",
       " 0.1411811569696925,\n",
       " 0.31085662057112157,\n",
       " 0.03560736789678363,\n",
       " 1.7248558065459774,\n",
       " 0.19446551401578635,\n",
       " -0.3461016764449104,\n",
       " 0.16690990994948604,\n",
       " 0.06890416137442033,\n",
       " -0.35,\n",
       " 2.5075230796777,\n",
       " -0.35,\n",
       " -0.34252069334799856,\n",
       " -0.04919663511142704,\n",
       " -0.012096390353447055,\n",
       " 0.18753464038109266,\n",
       " 1.039867632824274,\n",
       " -0.2016074982546774,\n",
       " -0.3422467726799356,\n",
       " 0.0,\n",
       " 0.15076324859138437,\n",
       " 0.014218771699736506,\n",
       " -0.34665591010805535,\n",
       " 0.19337659821382427,\n",
       " 0.029813430855484515,\n",
       " 0.625969330982337,\n",
       " 0.022645048069796274,\n",
       " -0.04109092730060616,\n",
       " 0.04323778661791112]"
      ]
     },
     "execution_count": 31,
     "metadata": {},
     "output_type": "execute_result"
    }
   ],
   "source": [
    "profits[-60:]"
   ]
  },
  {
   "cell_type": "code",
   "execution_count": 36,
   "id": "516fc07e",
   "metadata": {},
   "outputs": [],
   "source": [
    "sprof = np.zeros ((48))\n",
    "pp = profits[-48:]\n",
    "for i in range(48):\n",
    "    if (ynewpred[i] == -1):\n",
    "        sprof [i] = 0\n",
    "    else:\n",
    "        sprof [i] = pp[i]"
   ]
  },
  {
   "cell_type": "code",
   "execution_count": 33,
   "id": "81c30ffb",
   "metadata": {},
   "outputs": [
    {
     "data": {
      "text/plain": [
       "array([ 0.        ,  0.        , 11.01391416,  0.        ,  0.29677236,\n",
       "       -0.19980758,  0.44443443,  0.        ,  0.        ,  0.27804226,\n",
       "        0.        ,  0.3182717 ,  0.        ,  2.42071824,  0.        ,\n",
       "       -0.34554833,  0.        ,  0.        ,  0.        ,  0.        ,\n",
       "        0.        ,  0.31085662,  0.        ,  1.72485581,  0.19446551,\n",
       "        0.        ,  0.        ,  0.        ,  0.        ,  2.50752308,\n",
       "        0.        ,  0.        , -0.04919664, -0.01209639,  0.18753464,\n",
       "        1.03986763,  0.        ,  0.        ,  0.        ,  0.        ,\n",
       "        0.01421877, -0.34665591,  0.        ,  0.02981343,  0.62596933,\n",
       "        0.        ,  0.        ,  0.04323779])"
      ]
     },
     "execution_count": 33,
     "metadata": {},
     "output_type": "execute_result"
    }
   ],
   "source": [
    "sprof"
   ]
  },
  {
   "cell_type": "code",
   "execution_count": 37,
   "id": "059a9431",
   "metadata": {},
   "outputs": [
    {
     "data": {
      "text/plain": [
       "1.1459949500898776"
      ]
     },
     "execution_count": 37,
     "metadata": {},
     "output_type": "execute_result"
    }
   ],
   "source": [
    "numtrades , maxdrawdown , maxwin , allprofit , multiplyer = RATE(sprof[-10:])\n",
    "allprofit"
   ]
  },
  {
   "cell_type": "code",
   "execution_count": null,
   "id": "1a8fcca7",
   "metadata": {},
   "outputs": [],
   "source": [
    "xtrain = data[-2000:]"
   ]
  },
  {
   "cell_type": "code",
   "execution_count": 676,
   "id": "34158344",
   "metadata": {},
   "outputs": [
    {
     "data": {
      "text/plain": [
       "array([ 0.47426604, -0.3445821 ,  0.14118116,  0.31085662,  0.03560737,\n",
       "        1.72485581,  0.19446551, -0.34610168,  0.16690991,  0.06890416,\n",
       "       -0.35      ,  2.50752308, -0.35      , -0.34252069, -0.04919664,\n",
       "       -0.01209639,  0.18753464,  1.03986763, -0.2016075 , -0.34224677,\n",
       "        0.        ,  0.15076325,  0.01421877, -0.34665591,  0.1933766 ,\n",
       "        0.02981343,  0.62596933,  0.02264505, -0.04109093,  0.04323779])"
      ]
     },
     "execution_count": 676,
     "metadata": {},
     "output_type": "execute_result"
    }
   ],
   "source": [
    "profits[-30:]"
   ]
  },
  {
   "cell_type": "code",
   "execution_count": 554,
   "id": "cc63682a",
   "metadata": {},
   "outputs": [],
   "source": [
    "from sklearn import svm\n",
    "from sklearn.model_selection import train_test_split\n",
    "from sklearn.metrics import accuracy_score"
   ]
  },
  {
   "cell_type": "code",
   "execution_count": 110,
   "id": "a77b1867",
   "metadata": {},
   "outputs": [],
   "source": [
    "X , y = SVMDATA(buy , sell , profits , data[-N:] , smas[30 , :] , smas[35 , :] , 0.7)\n",
    "from imblearn.over_sampling import SMOTE\n",
    "\n"
   ]
  },
  {
   "cell_type": "code",
   "execution_count": 111,
   "id": "a5708eaa",
   "metadata": {},
   "outputs": [
    {
     "name": "stdout",
     "output_type": "stream",
     "text": [
      "Accuracy: 0.7201333333333333\n"
     ]
    }
   ],
   "source": [
    "acc = []\n",
    "for i in range (1000):\n",
    "    # Instantiate the SMOTE resampler\n",
    "    smote = SMOTE()\n",
    "    # Resample the data\n",
    "    X_resampled, y_resampled = smote.fit_resample(X, y)\n",
    "    X_train, X_test, y_train, y_test = train_test_split(X_resampled, y_resampled, test_size=0.2, random_state=i)\n",
    "    clf = svm.SVC(kernel='rbf')  # You can choose different kernel types like 'linear', 'rbf', 'poly', etc.\n",
    "    clf.fit(X_train, y_train)\n",
    "    y_pred = clf.predict(X_test)\n",
    "    accuracy = accuracy_score(y_test, y_pred)\n",
    "    acc.append(accuracy)\n",
    "print(\"Accuracy:\", np.mean(np.array(acc)))"
   ]
  },
  {
   "cell_type": "code",
   "execution_count": 112,
   "id": "1eccd55d",
   "metadata": {},
   "outputs": [],
   "source": [
    "profits = np.array(profits)\n",
    "numtrades , maxdrawdown , maxwin , allprofit , multiplyer = RATE(profits[profits > 1])"
   ]
  },
  {
   "cell_type": "code",
   "execution_count": 114,
   "id": "9665b250",
   "metadata": {},
   "outputs": [
    {
     "data": {
      "text/plain": [
       "array([-3.50280126e-01, -3.39383798e-01, -3.50140035e-01, -1.02389719e-01,\n",
       "       -3.50841051e-01, -3.44857888e-01,  1.95268414e-01,  4.82291905e-02,\n",
       "        1.16052208e-01,  6.34439837e-02, -3.50140035e-01,  1.32025483e+00,\n",
       "       -3.50000000e-01, -3.41153279e-01,  1.27428919e-01, -1.15364447e-01,\n",
       "        4.37185550e+00, -3.45686583e-01, -7.33149913e-02, -9.30820318e-02,\n",
       "        1.39024179e-01,  9.26741663e-01, -5.57696865e-02, -3.43206455e-01,\n",
       "       -3.50420273e-01,  1.07162999e-01,  1.40314478e-03, -3.46933360e-01,\n",
       "       -9.20992669e-02,  5.45150551e-01,  1.57737305e+00,  1.77797543e-01,\n",
       "       -2.58357208e-02, -8.57879605e-02, -1.82904562e-01, -3.42931985e-01,\n",
       "       -2.30604965e-01, -9.70494888e-02,  1.10139142e+01, -6.74086756e-02,\n",
       "        2.96772359e-01, -1.99807579e-01,  4.44434429e-01,  8.72929443e-02,\n",
       "        0.00000000e+00,  2.78042260e-01,  4.65806056e-02,  3.18271701e-01,\n",
       "        4.53722139e-01,  2.42071824e+00,  0.00000000e+00, -3.45548329e-01,\n",
       "        5.31119852e-02,  6.89822986e-02,  4.74266040e-01, -3.44582099e-01,\n",
       "        1.41181157e-01,  3.10856621e-01,  3.56073679e-02,  1.72485581e+00,\n",
       "        1.94465514e-01, -3.46101676e-01,  1.66909910e-01,  6.89041614e-02,\n",
       "       -3.50000000e-01,  2.50752308e+00, -3.50000000e-01, -3.42520693e-01,\n",
       "       -4.91966351e-02, -1.20963904e-02,  1.87534640e-01,  1.03986763e+00,\n",
       "       -2.01607498e-01, -3.42246773e-01,  0.00000000e+00,  1.50763249e-01,\n",
       "        1.42187717e-02, -3.46655910e-01,  1.93376598e-01,  2.98134309e-02,\n",
       "        6.25969331e-01,  2.26450481e-02, -4.10909273e-02,  4.32377866e-02])"
      ]
     },
     "execution_count": 114,
     "metadata": {},
     "output_type": "execute_result"
    }
   ],
   "source": [
    "profits"
   ]
  },
  {
   "cell_type": "code",
   "execution_count": 723,
   "id": "2a6efd93",
   "metadata": {},
   "outputs": [
    {
     "ename": "ValueError",
     "evalue": "could not broadcast input array from shape (60,) into shape (3,)",
     "output_type": "error",
     "traceback": [
      "\u001b[0;31m---------------------------------------------------------------------------\u001b[0m",
      "\u001b[0;31mValueError\u001b[0m                                Traceback (most recent call last)",
      "Cell \u001b[0;32mIn[723], line 20\u001b[0m\n\u001b[1;32m     18\u001b[0m \u001b[38;5;28;01mfor\u001b[39;00m i \u001b[38;5;129;01min\u001b[39;00m \u001b[38;5;28mrange\u001b[39m(y\u001b[38;5;241m.\u001b[39mshape[\u001b[38;5;241m0\u001b[39m]):\n\u001b[1;32m     19\u001b[0m     \u001b[38;5;28;01mif\u001b[39;00m (y[i]\u001b[38;5;241m==\u001b[39m\u001b[38;5;241m1\u001b[39m):\n\u001b[0;32m---> 20\u001b[0m         \u001b[43mxr\u001b[49m\u001b[43m[\u001b[49m\u001b[43mr\u001b[49m\u001b[43m \u001b[49m\u001b[43m,\u001b[49m\u001b[43m \u001b[49m\u001b[43m:\u001b[49m\u001b[43m]\u001b[49m \u001b[38;5;241m=\u001b[39m x[i , :]\n\u001b[1;32m     21\u001b[0m         r \u001b[38;5;241m=\u001b[39m r\u001b[38;5;241m+\u001b[39m\u001b[38;5;241m1\u001b[39m\n\u001b[1;32m     22\u001b[0m \u001b[38;5;28;01mfor\u001b[39;00m i \u001b[38;5;129;01min\u001b[39;00m \u001b[38;5;28mrange\u001b[39m(y\u001b[38;5;241m.\u001b[39mshape[\u001b[38;5;241m0\u001b[39m]):\n",
      "\u001b[0;31mValueError\u001b[0m: could not broadcast input array from shape (60,) into shape (3,)"
     ]
    }
   ],
   "source": [
    "N = 1500\n",
    "thresh = 0.2\n",
    "smas = np.zeros((200 , N) , dtype = float)\n",
    "for i in range (200):\n",
    "    smas [i , :] = SMA(i+1 , data[-N:])\n",
    "\n",
    "buy , sell = CUTS(smas[30 , :] , smas[35 , :])\n",
    "profits = PROFITS(buy , sell,lows[-N:] , highs[-N:], data[-N:] , l , p)\n",
    "\n",
    "x , y = SVMDATA(buy , sell , profits , data[-N:] , smas[30 , :] , smas[35 , :] , thresh , 20)\n",
    "\n",
    "xr = np.zeros((int(np.sum(y[y==1])) , 3) , dtype = float)\n",
    "xw = np.zeros((int(-1*np.sum(y[y==-1])) , 3) , dtype = float)\n",
    "\n",
    "r = 0 \n",
    "w = 0\n",
    "\n",
    "for i in range(y.shape[0]):\n",
    "    if (y[i]==1):\n",
    "        xr[r , :] = x[i , :]\n",
    "        r = r+1\n",
    "for i in range(y.shape[0]):\n",
    "    if (y[i]==-1):\n",
    "        xw[w , :] = x[i , :]\n",
    "        w = w+1       \n",
    "\n",
    "        "
   ]
  },
  {
   "cell_type": "code",
   "execution_count": 724,
   "id": "22ab0771",
   "metadata": {},
   "outputs": [
    {
     "data": {
      "text/plain": [
       "Text(0.5, 0.92, '3D Plot')"
      ]
     },
     "execution_count": 724,
     "metadata": {},
     "output_type": "execute_result"
    },
    {
     "data": {
      "image/png": "[encoded data removed]",
      "text/plain": [
       "<Figure size 640x480 with 1 Axes>"
      ]
     },
     "metadata": {},
     "output_type": "display_data"
    }
   ],
   "source": [
    "import numpy as np\n",
    "import matplotlib.pyplot as plt\n",
    "from mpl_toolkits.mplot3d import Axes3D\n",
    "\n",
    "# Create a 3D plot\n",
    "fig = plt.figure()\n",
    "ax = fig.add_subplot(111, projection='3d')\n",
    "\n",
    "# Plot the data points\n",
    "ax.scatter(xr[: , 0], xr[: , 1], xr[: , 2], c='blue', marker='o')\n",
    "ax.scatter(xw[: , 0], xw[: , 0], xw[: , 2], c='red', marker='o')\n",
    "\n",
    "#ax.set_xlim([0.6, 1.1])\n",
    "#ax.set_ylim([0.6, 1.1])\n",
    "#ax.set_zlim([0.6, 1.1])\n",
    "\n",
    "# Customize the plot\n",
    "ax.set_xlabel('Feature 1')\n",
    "ax.set_ylabel('Feature 2')\n",
    "ax.set_zlabel('Feature 3')\n",
    "ax.set_title('3D Plot')"
   ]
  },
  {
   "cell_type": "code",
   "execution_count": 725,
   "id": "f5c00ae9",
   "metadata": {},
   "outputs": [
    {
     "data": {
      "text/plain": [
       "<matplotlib.collections.PathCollection at 0x2d04a4580>"
      ]
     },
     "execution_count": 725,
     "metadata": {},
     "output_type": "execute_result"
    },
    {
     "data": {
      "image/png": "[encoded data removed]",
      "text/plain": [
       "<Figure size 640x480 with 1 Axes>"
      ]
     },
     "metadata": {},
     "output_type": "display_data"
    }
   ],
   "source": [
    "plt.figure()\n",
    "plt.scatter(xr[: , 0], xr[: , 1] , color = 'blue' )\n",
    "plt.scatter(xw[: , 0], xw[: , 1] , color = 'red')"
   ]
  },
  {
   "cell_type": "code",
   "execution_count": 726,
   "id": "3b9e06d7",
   "metadata": {},
   "outputs": [
    {
     "data": {
      "text/plain": [
       "<matplotlib.collections.PathCollection at 0x2d0507d00>"
      ]
     },
     "execution_count": 726,
     "metadata": {},
     "output_type": "execute_result"
    },
    {
     "data": {
      "image/png": "[encoded data removed]",
      "text/plain": [
       "<Figure size 640x480 with 1 Axes>"
      ]
     },
     "metadata": {},
     "output_type": "display_data"
    }
   ],
   "source": [
    "plt.figure()\n",
    "plt.scatter(xr[: , 2], xr[: , 1] , color = 'blue' )\n",
    "plt.scatter(xw[: , 2], xw[: , 1] , color = 'red')"
   ]
  },
  {
   "cell_type": "code",
   "execution_count": 727,
   "id": "289646a5",
   "metadata": {},
   "outputs": [
    {
     "data": {
      "text/plain": [
       "<matplotlib.collections.PathCollection at 0x2d0570d90>"
      ]
     },
     "execution_count": 727,
     "metadata": {},
     "output_type": "execute_result"
    },
    {
     "data": {
      "image/png": "[encoded data removed]",
      "text/plain": [
       "<Figure size 640x480 with 1 Axes>"
      ]
     },
     "metadata": {},
     "output_type": "display_data"
    }
   ],
   "source": [
    "plt.figure()\n",
    "plt.scatter(xr[: , 0], xr[: , 2] , color = 'blue' )\n",
    "plt.scatter(xw[: , 0], xw[: , 2] , color = 'red')"
   ]
  },
  {
   "cell_type": "code",
   "execution_count": 335,
   "id": "f476b445",
   "metadata": {},
   "outputs": [],
   "source": [
    "def SVMDATA(buys , sells , profits , data , sma1 , sma2 , thresh , f):\n",
    "    feature = np.zeros ((len(profits)+1 , 3*f))\n",
    "    result = np.zeros (len(profits))\n",
    "    for i in range(len(profits)):\n",
    "        if (profits[i]>thresh):\n",
    "            result[i] = 1\n",
    "        else :\n",
    "            result [i] = -1\n",
    "    long = -1\n",
    "    if (buys[0] > sells[0]):\n",
    "        sells = sells[1:]\n",
    "    else :\n",
    "        long = 1\n",
    "        buys = buys[1:]\n",
    "    entrys = []\n",
    "    for i in range(min(len(buys) , len(sells))):\n",
    "        if (long == 1):\n",
    "            entrys.append(sells[i])\n",
    "            entrys.append(buys[i])\n",
    "        else :\n",
    "            entrys.append(buys[i])\n",
    "            entrys.append(sells[i])\n",
    "    if (len(buys) == len(sells)):\n",
    "        entrys = entrys [:-1]\n",
    "    for i in range(len(entrys)):\n",
    "        d1 = []\n",
    "        for j in range (f):\n",
    "            d1.append(sma1[entrys[i]-j])\n",
    "            d1.append(sma2[entrys[i]-j])\n",
    "            d1.append(data[entrys[i]-j])\n",
    "        d1 = np.array(d1)\n",
    "        if (i == len(entrys)-1):\n",
    "            print(d1)\n",
    "        d1 = d1/np.max(d1)\n",
    "        feature [i , :] = d1\n",
    "        \n",
    "    return feature , result"
   ]
  },
  {
   "cell_type": "code",
   "execution_count": 341,
   "id": "c316faf5",
   "metadata": {},
   "outputs": [],
   "source": [
    "data = df['Close'].values\n",
    "lows = df['Low'].values\n",
    "highs = df['High'].values\n",
    "data = data[:-1]\n",
    "lows = lows[:-1]\n",
    "highs = highs[:-1]"
   ]
  },
  {
   "cell_type": "code",
   "execution_count": 342,
   "id": "17c55beb",
   "metadata": {},
   "outputs": [
    {
     "name": "stdout",
     "output_type": "stream",
     "text": [
      "short\n",
      "62\n",
      "62\n",
      "entry\n",
      "26868.353515625\n",
      "[27812.8703377  27796.00287543 26476.20703125 27846.71333165\n",
      " 27861.18267144 26334.81835938 27887.24773185 27974.03640408\n",
      " 27225.7265625  27906.33719758 28035.68413628 26851.27734375\n",
      " 27920.06728831 28131.90852865 26753.82617188 27968.2015499\n",
      " 28230.92713759 27129.5859375  28022.81747732 28324.15250651\n",
      " 26890.12890625 28135.96018145 28421.62299262 26832.20898438\n",
      " 28220.24521169 28513.47976345 27398.80273438 28314.32755796\n",
      " 28592.26464844 27036.65039062 28420.19354839 28664.94048394\n",
      " 27192.69335938 28526.41954385 28696.61707899 26930.63867188\n",
      " 28638.30430948 28724.87141927 26784.078125   28746.52929688\n",
      " 28756.5875651  26804.99023438 28857.17666331 28791.00840929\n",
      " 27000.7890625 ]\n",
      "0.9638112093296801\n",
      "(123, 2)\n"
     ]
    }
   ],
   "source": [
    "N = 3000\n",
    "thresh = 0\n",
    "f = 15\n",
    "l = 10 \n",
    "p = 0.35\n",
    "smas = np.zeros((200 , N) , dtype = float)\n",
    "for i in range (200):\n",
    "    smas [i , :] = SMA(i+1 , data[-N:])\n",
    "\n",
    "buy , sell = CUTS(smas[30 , :] , smas[35 , :])\n",
    "profits = PROFITS(buy , sell , lows[-N:] , highs[-N:], data[-N:] , l , p)\n",
    "\n",
    "\n",
    "x , y = SVMDATA(buy , sell , profits , data[-N:] , smas[30 , :] , smas[35 , :] , thresh , f)\n",
    "\n",
    "xr = np.zeros((int(np.sum(y[y==1])) , 3*f) , dtype = float)\n",
    "xw = np.zeros((int(-1*np.sum(y[y==-1])) , 3*f) , dtype = float)\n",
    "\n",
    "pca = PCA(n_components=2)\n",
    "xpca = pca.fit_transform(x)\n",
    "\n",
    "xpca = xpca[(xpca < 1).all(axis=1)]\n",
    "xr = np.zeros((int(np.sum(y[y==1])) , 2) , dtype = float)\n",
    "xw = np.zeros((int(-1*np.sum(y[y==-1])) , 2) , dtype = float)\n",
    "\n",
    "r = 0 \n",
    "w = 0\n",
    "\n",
    "for i in range(xpca.shape[0]-1):\n",
    "    if (y[i]==1):\n",
    "        xr[r , :] = xpca[i , :]\n",
    "        r = r+1\n",
    "for i in range(xpca.shape[0]-1):\n",
    "    if (y[i]==-1):\n",
    "        xw[w , :] = xpca[i , :]\n",
    "        w = w+1 \n",
    "        \n",
    "plt.figure(figsize = (20, 20))\n",
    "plt.scatter(xr[: , 0], xr[: , 1] , color = 'blue' )\n",
    "plt.scatter(xw[: , 0], xw[: , 1] , color = 'red')\n",
    "plt.scatter(xpca[-1 , 0] , xpca[-1 , 1] , color = 'green')\n",
    "for i in range(xpca.shape[0]-1):\n",
    "    plt.text(xpca[i, 0], xpca[i, 1], np.round(profits[i] , 2), ha='center', va='center' , fontsize = '8')\n",
    "#plt.xlim(-0.4 , -0.3)\n",
    "#plt.ylim(-0.1 , -0.05)"
   ]
  },
  {
   "cell_type": "code",
   "execution_count": 347,
   "id": "a9721c08",
   "metadata": {},
   "outputs": [
    {
     "data": {
      "image/png": "[encoded data removed]",
      "text/plain": [
       "<Figure size 2000x2000 with 1 Axes>"
      ]
     },
     "metadata": {},
     "output_type": "display_data"
    }
   ],
   "source": [
    "plt.figure(figsize = (20, 20))\n",
    "plt.scatter(xr[: , 0], xr[: , 1] , color = 'blue' )\n",
    "plt.scatter(xw[: , 0], xw[: , 1] , color = 'red')\n",
    "plt.scatter(xpca[-1 , 0] , xpca[-1 , 1] , color = 'green')\n",
    "for i in range(xpca.shape[0]-1):\n",
    "    plt.text(xpca[i, 0], xpca[i, 1], np.round(profits[i] , 2), ha='center', va='center' , fontsize = '8')\n",
    "#plt.xlim(-0.4 , -0.3)\n",
    "#plt.ylim(-0.1 , -0.05)"
   ]
  },
  {
   "cell_type": "code",
   "execution_count": 186,
   "id": "3d2b4253",
   "metadata": {},
   "outputs": [],
   "source": [
    "def PCAresults(xpca , profits , n):\n",
    "    point = xpca [-1 , :]\n",
    "    distances = np.zeros ((len(profits)-1))\n",
    "    for i in range (len(profits)-1):\n",
    "        distances[i] = (np.linalg.norm(point - xpca[i , :]))\n",
    "    indx = np.argsort(distances)[:n]\n",
    "    s = 0\n",
    "    for i in range (n):\n",
    "        s = s + profits[indx[i]]\n",
    "        print(profits[indx[i]])\n",
    "    return s\n"
   ]
  },
  {
   "cell_type": "code",
   "execution_count": 188,
   "id": "4fd39e99",
   "metadata": {},
   "outputs": [
    {
     "name": "stdout",
     "output_type": "stream",
     "text": [
      "0.9267416631496782\n",
      "0.0\n",
      "-0.34554832889085635\n"
     ]
    },
    {
     "data": {
      "text/plain": [
       "0.5811933342588218"
      ]
     },
     "execution_count": 188,
     "metadata": {},
     "output_type": "execute_result"
    }
   ],
   "source": [
    "PCAresults (xpca , profits , 3)"
   ]
  },
  {
   "cell_type": "code",
   "execution_count": 37,
   "id": "2e99f321",
   "metadata": {},
   "outputs": [
    {
     "data": {
      "text/plain": [
       "[-0.07331499132675766,\n",
       " -0.09308203176565313,\n",
       " 0.13902417915311263,\n",
       " 0.9267416631496782,\n",
       " -0.0557696864922037,\n",
       " -0.34320645455593585,\n",
       " -0.3504202731274478,\n",
       " 0.10716299889719184,\n",
       " 0.001403144777095849,\n",
       " -0.34693335967387956,\n",
       " -0.09209926686481416,\n",
       " 0.5451505513594733,\n",
       " 1.5773730544059998,\n",
       " 0.17779754270618234,\n",
       " -0.02583572075491248,\n",
       " -0.08578796052028985,\n",
       " -0.18290456161402677,\n",
       " -0.3429319854708813,\n",
       " -0.23060496462995286,\n",
       " -0.09704948882581699,\n",
       " 11.013914158758265,\n",
       " -0.06740867557308208,\n",
       " 0.29677235868772095,\n",
       " -0.19980757931577964,\n",
       " 0.4444344285225844,\n",
       " 0.08729294425677421,\n",
       " 0.0,\n",
       " 0.278042260487026,\n",
       " 0.04658060561913885,\n",
       " 0.3182717014426819,\n",
       " 0.4537221392454259,\n",
       " 2.4207182359583057,\n",
       " 0.0,\n",
       " -0.34554832889085635,\n",
       " 0.053111985174092824,\n",
       " 0.06898229864539364,\n",
       " 0.47426603997736505,\n",
       " -0.34458209861133615,\n",
       " 0.1411811569696925,\n",
       " 0.31085662057112157,\n",
       " 0.03560736789678363,\n",
       " 1.7248558065459774,\n",
       " 0.19446551401578635,\n",
       " -0.3461016764449104,\n",
       " 0.16690990994948604,\n",
       " 0.06890416137442033,\n",
       " -0.35,\n",
       " 2.5075230796777,\n",
       " -0.35,\n",
       " -0.34252069334799856,\n",
       " -0.04919663511142704,\n",
       " -0.012096390353447055,\n",
       " 0.18753464038109266,\n",
       " 1.039867632824274,\n",
       " -0.2016074982546774,\n",
       " -0.3422467726799356,\n",
       " 0.0,\n",
       " 0.15076324859138437,\n",
       " 0.014218771699736506,\n",
       " -0.34665591010805535,\n",
       " 0.19337659821382427,\n",
       " 0.029813430855484515,\n",
       " 0.625969330982337,\n",
       " 0.022645048069796274,\n",
       " -0.04109092730060616,\n",
       " 0.04323778661791112]"
      ]
     },
     "execution_count": 37,
     "metadata": {},
     "output_type": "execute_result"
    }
   ],
   "source": [
    "profits"
   ]
  },
  {
   "cell_type": "code",
   "execution_count": 228,
   "id": "9c6d6ef0",
   "metadata": {},
   "outputs": [
    {
     "data": {
      "text/plain": [
       "[39,\n",
       " 110,\n",
       " 239,\n",
       " 281,\n",
       " 301,\n",
       " 303,\n",
       " 307,\n",
       " 385,\n",
       " 402,\n",
       " 409,\n",
       " 480,\n",
       " 526,\n",
       " 613,\n",
       " 643,\n",
       " 655,\n",
       " 761,\n",
       " 840,\n",
       " 855,\n",
       " 873,\n",
       " 908,\n",
       " 910,\n",
       " 941,\n",
       " 996,\n",
       " 1010,\n",
       " 1070]"
      ]
     },
     "execution_count": 228,
     "metadata": {},
     "output_type": "execute_result"
    }
   ],
   "source": [
    "buy"
   ]
  },
  {
   "cell_type": "code",
   "execution_count": 229,
   "id": "f80cf5f8",
   "metadata": {},
   "outputs": [
    {
     "data": {
      "text/plain": [
       "[35,\n",
       " 80,\n",
       " 234,\n",
       " 278,\n",
       " 299,\n",
       " 302,\n",
       " 305,\n",
       " 316,\n",
       " 386,\n",
       " 408,\n",
       " 460,\n",
       " 519,\n",
       " 528,\n",
       " 629,\n",
       " 653,\n",
       " 675,\n",
       " 801,\n",
       " 843,\n",
       " 871,\n",
       " 880,\n",
       " 909,\n",
       " 929,\n",
       " 988,\n",
       " 1005,\n",
       " 1057,\n",
       " 1072]"
      ]
     },
     "execution_count": 229,
     "metadata": {},
     "output_type": "execute_result"
    }
   ],
   "source": [
    "sell"
   ]
  },
  {
   "cell_type": "code",
   "execution_count": 230,
   "id": "c581e3b7",
   "metadata": {},
   "outputs": [
    {
     "data": {
      "text/plain": [
       "(array([[0.86085222, 0.85943888, 1.        ],\n",
       "        [0.99952883, 1.        , 0.90307079],\n",
       "        [0.99685487, 0.99540726, 1.        ],\n",
       "        [0.77252538, 0.77524183, 1.        ],\n",
       "        [0.79083145, 0.79033277, 1.        ],\n",
       "        [0.99607762, 1.        , 0.98877634],\n",
       "        [0.95561367, 0.9550833 , 1.        ],\n",
       "        [0.91557731, 0.91680187, 1.        ],\n",
       "        [0.94480919, 0.94468148, 1.        ],\n",
       "        [0.95961359, 0.96005454, 1.        ],\n",
       "        [1.        , 0.99897068, 0.9662454 ],\n",
       "        [0.99999295, 1.        , 0.97306113],\n",
       "        [1.        , 0.99876131, 0.89507468],\n",
       "        [0.98960214, 0.99026367, 1.        ],\n",
       "        [1.        , 0.99931855, 0.95904485],\n",
       "        [0.99983942, 1.        , 0.95435912],\n",
       "        [0.89566536, 0.89343043, 1.        ],\n",
       "        [0.86683193, 0.86704535, 1.        ],\n",
       "        [0.88828859, 0.88736666, 1.        ],\n",
       "        [0.9988438 , 1.        , 0.91780861],\n",
       "        [0.85037834, 0.84596629, 1.        ],\n",
       "        [0.99812213, 1.        , 0.95943938],\n",
       "        [1.        , 0.99952027, 0.89782818],\n",
       "        [0.99966728, 1.        , 0.95042584],\n",
       "        [1.        , 0.99712335, 0.95505231],\n",
       "        [0.99845176, 1.        , 0.96477222],\n",
       "        [0.91813618, 0.91458959, 1.        ],\n",
       "        [0.9088694 , 0.90918778, 1.        ],\n",
       "        [0.93643533, 0.93397653, 1.        ],\n",
       "        [0.99972341, 1.        , 0.94408768],\n",
       "        [0.8937139 , 0.89273855, 1.        ],\n",
       "        [0.99975847, 1.        , 0.89805158],\n",
       "        [1.        , 0.99926705, 0.98760519],\n",
       "        [0.9999823 , 1.        , 0.97026473],\n",
       "        [1.        , 0.99970147, 0.99280129],\n",
       "        [0.96447924, 0.96484123, 1.        ],\n",
       "        [1.        , 0.99984137, 0.80499775],\n",
       "        [0.99992258, 1.        , 0.86805847],\n",
       "        [0.94412223, 0.94342627, 1.        ],\n",
       "        [0.97001833, 0.97029127, 1.        ],\n",
       "        [1.        , 0.99918616, 0.98876828],\n",
       "        [0.99882734, 1.        , 0.99608425],\n",
       "        [0.82298471, 0.82259676, 1.        ],\n",
       "        [0.99966987, 1.        , 0.96126187],\n",
       "        [1.        , 0.9992905 , 0.96936066],\n",
       "        [0.84614557, 0.84629817, 1.        ],\n",
       "        [0.87109847, 0.8709004 , 1.        ],\n",
       "        [0.99965023, 1.        , 0.9321339 ]]),\n",
       " array([-1., -1.,  1., -1.,  1., -1.,  1.,  1., -1.,  1., -1.,  1.,  1.,\n",
       "         1., -1., -1.,  1.,  1.,  1., -1.,  1.,  1., -1.,  1.,  1., -1.,\n",
       "         1.,  1., -1.,  1., -1., -1., -1., -1.,  1.,  1., -1., -1., -1.,\n",
       "         1., -1., -1.,  1., -1.,  1., -1., -1., -1.]))"
      ]
     },
     "execution_count": 230,
     "metadata": {},
     "output_type": "execute_result"
    }
   ],
   "source": [
    "test"
   ]
  },
  {
   "cell_type": "code",
   "execution_count": null,
   "id": "3ac77a18",
   "metadata": {},
   "outputs": [],
   "source": []
  }
 ],
 "metadata": {
  "kernelspec": {
   "display_name": "Python 3 (ipykernel)",
   "language": "python",
   "name": "python3"
  },
  "language_info": {
   "codemirror_mode": {
    "name": "ipython",
    "version": 3
   },
   "file_extension": ".py",
   "mimetype": "text/x-python",
   "name": "python",
   "nbconvert_exporter": "python",
   "pygments_lexer": "ipython3",
   "version": "3.9.6"
  }
 },
 "nbformat": 4,
 "nbformat_minor": 5
}
